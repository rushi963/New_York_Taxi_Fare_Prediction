{
 "cells": [
  {
   "cell_type": "markdown",
   "metadata": {},
   "source": [
    "<h2 align=\"center\">Data Science Fundamentals CSE 519</h2>\n",
    "<h2 align=\"center\">Prof. Steven Skiena</h2>\n",
    "<h2 align=\"center\">Homework 2</h2>\n",
    "\n",
    "### Importing Libraries"
   ]
  },
  {
   "cell_type": "code",
   "execution_count": 1,
   "metadata": {
    "collapsed": true
   },
   "outputs": [],
   "source": [
    "import numpy as np\n",
    "import pandas as pd\n",
    "import sklearn\n",
    "import os\n",
    "import random\n",
    "from scipy.stats import pearsonr\n",
    "import matplotlib.pyplot as plt\n",
    "import math\n",
    "import seaborn as sns\n",
    "from sklearn.model_selection import train_test_split, cross_val_score\n",
    "from sklearn import metrics\n",
    "from sklearn.linear_model import LinearRegression\n",
    "from sklearn.ensemble import RandomForestRegressor\n",
    "from sklearn.preprocessing import StandardScaler\n",
    "import lightgbm as lgb\n",
    "import xgboost as xgb\n",
    "import requests\n",
    "import json"
   ]
  },
  {
   "cell_type": "markdown",
   "metadata": {},
   "source": [
    "### Checking files in working directory"
   ]
  },
  {
   "cell_type": "code",
   "execution_count": 2,
   "metadata": {},
   "outputs": [
    {
     "name": "stdout",
     "output_type": "stream",
     "text": [
      "['.ipynb_checkpoints', 'ensemble_submission_1.csv', 'ensemble_submission_2.csv', 'ensemble_submission_3.csv', 'Final-Copy1.ipynb', 'Final.ipynb', 'GCP-Coupons-Instructions.rtf', 'lgbm_submission_1.csv', 'lgbm_submission_2.csv', 'linear_regression_submission.csv', 'linear_regression_submission_2.csv', 'linear_regression_submission_3.csv', 'linear_regression_submission_4.csv', 'LR_1.PNG', 'LR_2.PNG', 'random_forest_submission_1.csv', 'random_forest_submission_2.csv', 'random_forest_submission_3.csv', 'RF_1.PNG', 'RF_2.PNG', 'sample_submission.csv', 'scatter_e_f.png', 'solution.ipynb', 'test.csv', 'train.csv', 'train_duration.csv', 'xgboost_submission_1.csv', 'xgboost_submission_2.csv', 'xgboost_submission_3.csv', 'XGB_2.PNG']\n"
     ]
    }
   ],
   "source": [
    "print(os.listdir('D:/PycharmProjects/DSF Assignment 2/'))"
   ]
  },
  {
   "cell_type": "markdown",
   "metadata": {},
   "source": [
    "### Loading Training data by using random sampling (2% data is used)"
   ]
  },
  {
   "cell_type": "code",
   "execution_count": 3,
   "metadata": {},
   "outputs": [
    {
     "name": "stdout",
     "output_type": "stream",
     "text": [
      "key                   object\n",
      "fare_amount          float64\n",
      "pickup_datetime       object\n",
      "pickup_longitude     float64\n",
      "pickup_latitude      float64\n",
      "dropoff_longitude    float64\n",
      "dropoff_latitude     float64\n",
      "passenger_count        int64\n",
      "dtype: object\n"
     ]
    }
   ],
   "source": [
    "f = 'D:/PycharmProjects/DSF Assignment 2/train.csv'\n",
    "n = sum(1 for line in open(f))\n",
    "sample = (int)(n / 50)\n",
    "skip = random.sample(range(1,n), n-sample)\n",
    "train_df = pd.read_csv(f, skiprows=skip)\n",
    "print(train_df.dtypes)"
   ]
  },
  {
   "cell_type": "markdown",
   "metadata": {},
   "source": [
    "### Loading Testing data"
   ]
  },
  {
   "cell_type": "code",
   "execution_count": 4,
   "metadata": {},
   "outputs": [
    {
     "name": "stdout",
     "output_type": "stream",
     "text": [
      "key                   object\n",
      "pickup_datetime       object\n",
      "pickup_longitude     float64\n",
      "pickup_latitude      float64\n",
      "dropoff_longitude    float64\n",
      "dropoff_latitude     float64\n",
      "passenger_count        int64\n",
      "dtype: object\n"
     ]
    }
   ],
   "source": [
    "test_df = pd.read_csv('D:/PycharmProjects/DSF Assignment 2/test.csv')\n",
    "print(test_df.dtypes)"
   ]
  },
  {
   "cell_type": "markdown",
   "metadata": {},
   "source": [
    "### Checking shapes of train and test datasets"
   ]
  },
  {
   "cell_type": "code",
   "execution_count": 5,
   "metadata": {},
   "outputs": [
    {
     "name": "stdout",
     "output_type": "stream",
     "text": [
      "(1108476, 8)\n",
      "(9914, 7)\n"
     ]
    }
   ],
   "source": [
    "print(train_df.shape)\n",
    "print(test_df.shape)"
   ]
  },
  {
   "cell_type": "markdown",
   "metadata": {},
   "source": [
    "### Checking null values in Training data"
   ]
  },
  {
   "cell_type": "code",
   "execution_count": 6,
   "metadata": {},
   "outputs": [
    {
     "data": {
      "text/plain": [
       "key                  0\n",
       "fare_amount          0\n",
       "pickup_datetime      0\n",
       "pickup_longitude     0\n",
       "pickup_latitude      0\n",
       "dropoff_longitude    5\n",
       "dropoff_latitude     5\n",
       "passenger_count      0\n",
       "dtype: int64"
      ]
     },
     "execution_count": 6,
     "metadata": {},
     "output_type": "execute_result"
    }
   ],
   "source": [
    "train_df.isnull().sum()"
   ]
  },
  {
   "cell_type": "markdown",
   "metadata": {},
   "source": [
    "### Checking null values in Testing data"
   ]
  },
  {
   "cell_type": "code",
   "execution_count": 7,
   "metadata": {},
   "outputs": [
    {
     "data": {
      "text/plain": [
       "key                  0\n",
       "pickup_datetime      0\n",
       "pickup_longitude     0\n",
       "pickup_latitude      0\n",
       "dropoff_longitude    0\n",
       "dropoff_latitude     0\n",
       "passenger_count      0\n",
       "dtype: int64"
      ]
     },
     "execution_count": 7,
     "metadata": {},
     "output_type": "execute_result"
    }
   ],
   "source": [
    "test_df.isnull().sum()"
   ]
  },
  {
   "cell_type": "markdown",
   "metadata": {},
   "source": [
    "### Removing null values from Training data"
   ]
  },
  {
   "cell_type": "code",
   "execution_count": 8,
   "metadata": {},
   "outputs": [
    {
     "data": {
      "text/plain": [
       "(1108471, 8)"
      ]
     },
     "execution_count": 8,
     "metadata": {},
     "output_type": "execute_result"
    }
   ],
   "source": [
    "train_df = train_df.dropna()\n",
    "train_df.shape"
   ]
  },
  {
   "cell_type": "markdown",
   "metadata": {},
   "source": [
    "### Looking at stats of fare amount"
   ]
  },
  {
   "cell_type": "code",
   "execution_count": 9,
   "metadata": {},
   "outputs": [
    {
     "data": {
      "text/plain": [
       "count    1.108471e+06\n",
       "mean     1.134554e+01\n",
       "std      9.777262e+00\n",
       "min     -7.500000e+01\n",
       "25%      6.000000e+00\n",
       "50%      8.500000e+00\n",
       "75%      1.250000e+01\n",
       "max      5.500000e+02\n",
       "Name: fare_amount, dtype: float64"
      ]
     },
     "execution_count": 9,
     "metadata": {},
     "output_type": "execute_result"
    }
   ],
   "source": [
    "train_df['fare_amount'].describe()"
   ]
  },
  {
   "cell_type": "markdown",
   "metadata": {},
   "source": [
    "### Removing negative and zero fare amounts"
   ]
  },
  {
   "cell_type": "code",
   "execution_count": 10,
   "metadata": {},
   "outputs": [
    {
     "data": {
      "text/plain": [
       "(1108409, 8)"
      ]
     },
     "execution_count": 10,
     "metadata": {},
     "output_type": "execute_result"
    }
   ],
   "source": [
    "train_df = train_df.drop(train_df[train_df['fare_amount'] <= 0].index)\n",
    "train_df.shape"
   ]
  },
  {
   "cell_type": "markdown",
   "metadata": {},
   "source": [
    "### Looking at stats of passenger count in training data"
   ]
  },
  {
   "cell_type": "code",
   "execution_count": 11,
   "metadata": {},
   "outputs": [
    {
     "data": {
      "text/plain": [
       "count    1.108409e+06\n",
       "mean     1.685162e+00\n",
       "std      1.308862e+00\n",
       "min      0.000000e+00\n",
       "25%      1.000000e+00\n",
       "50%      1.000000e+00\n",
       "75%      2.000000e+00\n",
       "max      7.000000e+00\n",
       "Name: passenger_count, dtype: float64"
      ]
     },
     "execution_count": 11,
     "metadata": {},
     "output_type": "execute_result"
    }
   ],
   "source": [
    "train_df['passenger_count'].describe()"
   ]
  },
  {
   "cell_type": "markdown",
   "metadata": {},
   "source": [
    "### Looking at stats of passenger count in test data"
   ]
  },
  {
   "cell_type": "code",
   "execution_count": 12,
   "metadata": {},
   "outputs": [
    {
     "data": {
      "text/plain": [
       "count    9914.000000\n",
       "mean        1.671273\n",
       "std         1.278747\n",
       "min         1.000000\n",
       "25%         1.000000\n",
       "50%         1.000000\n",
       "75%         2.000000\n",
       "max         6.000000\n",
       "Name: passenger_count, dtype: float64"
      ]
     },
     "execution_count": 12,
     "metadata": {},
     "output_type": "execute_result"
    }
   ],
   "source": [
    "test_df['passenger_count'].describe()"
   ]
  },
  {
   "cell_type": "markdown",
   "metadata": {},
   "source": [
    "### Removing entries with less than 1 and more than 6 passenger count"
   ]
  },
  {
   "cell_type": "code",
   "execution_count": 13,
   "metadata": {},
   "outputs": [
    {
     "data": {
      "text/plain": [
       "(1104519, 8)"
      ]
     },
     "execution_count": 13,
     "metadata": {},
     "output_type": "execute_result"
    }
   ],
   "source": [
    "train_df = train_df.drop(train_df[train_df['passenger_count'] > 6].index)\n",
    "train_df = train_df.drop(train_df[train_df['passenger_count'] < 1].index)\n",
    "train_df.shape"
   ]
  },
  {
   "cell_type": "markdown",
   "metadata": {},
   "source": [
    "### Looking at the max and min values of latitude and longitude"
   ]
  },
  {
   "cell_type": "code",
   "execution_count": 14,
   "metadata": {},
   "outputs": [
    {
     "data": {
      "text/plain": [
       "count    9914.000000\n",
       "mean       40.751743\n",
       "std         0.035435\n",
       "min        40.568973\n",
       "25%        40.735254\n",
       "50%        40.754065\n",
       "75%        40.768757\n",
       "max        41.696683\n",
       "Name: dropoff_latitude, dtype: float64"
      ]
     },
     "execution_count": 14,
     "metadata": {},
     "output_type": "execute_result"
    }
   ],
   "source": [
    "test_df['dropoff_latitude'].describe()"
   ]
  },
  {
   "cell_type": "code",
   "execution_count": 15,
   "metadata": {},
   "outputs": [
    {
     "data": {
      "text/plain": [
       "count    9914.000000\n",
       "mean       40.751041\n",
       "std         0.033541\n",
       "min        40.573143\n",
       "25%        40.736125\n",
       "50%        40.753051\n",
       "75%        40.767113\n",
       "max        41.709555\n",
       "Name: pickup_latitude, dtype: float64"
      ]
     },
     "execution_count": 15,
     "metadata": {},
     "output_type": "execute_result"
    }
   ],
   "source": [
    "test_df['pickup_latitude'].describe()"
   ]
  },
  {
   "cell_type": "code",
   "execution_count": 16,
   "metadata": {},
   "outputs": [
    {
     "data": {
      "text/plain": [
       "count    9914.000000\n",
       "mean      -73.973657\n",
       "std         0.039072\n",
       "min       -74.263242\n",
       "25%       -73.991247\n",
       "50%       -73.980015\n",
       "75%       -73.964059\n",
       "max       -72.990963\n",
       "Name: dropoff_longitude, dtype: float64"
      ]
     },
     "execution_count": 16,
     "metadata": {},
     "output_type": "execute_result"
    }
   ],
   "source": [
    "test_df['dropoff_longitude'].describe()"
   ]
  },
  {
   "cell_type": "code",
   "execution_count": 17,
   "metadata": {},
   "outputs": [
    {
     "data": {
      "text/plain": [
       "count    9914.000000\n",
       "mean      -73.974722\n",
       "std         0.042774\n",
       "min       -74.252193\n",
       "25%       -73.992501\n",
       "50%       -73.982326\n",
       "75%       -73.968013\n",
       "max       -72.986532\n",
       "Name: pickup_longitude, dtype: float64"
      ]
     },
     "execution_count": 17,
     "metadata": {},
     "output_type": "execute_result"
    }
   ],
   "source": [
    "test_df['pickup_longitude'].describe()"
   ]
  },
  {
   "cell_type": "markdown",
   "metadata": {},
   "source": [
    "### Rounding off the lat, long values upto 4 decimals"
   ]
  },
  {
   "cell_type": "code",
   "execution_count": 18,
   "metadata": {
    "collapsed": true
   },
   "outputs": [],
   "source": [
    "train_df.head()\n",
    "train_df['pickup_longitude'] = train_df['pickup_longitude'].round(4)\n",
    "train_df['pickup_latitude'] = train_df['pickup_latitude'].round(4)\n",
    "train_df['dropoff_longitude'] = train_df['dropoff_longitude'].round(4)\n",
    "train_df['dropoff_latitude'] = train_df['dropoff_latitude'].round(4)"
   ]
  },
  {
   "cell_type": "markdown",
   "metadata": {},
   "source": [
    "### Determined the max and min longitude and latitude by looking at the test set properties"
   ]
  },
  {
   "cell_type": "code",
   "execution_count": 19,
   "metadata": {},
   "outputs": [
    {
     "data": {
      "text/plain": [
       "(1081003, 8)"
      ]
     },
     "execution_count": 19,
     "metadata": {},
     "output_type": "execute_result"
    }
   ],
   "source": [
    "train_df = train_df.drop(((train_df[train_df['dropoff_latitude'] > 41.69])).index)\n",
    "train_df = train_df.drop(((train_df[train_df['dropoff_latitude'] < 40.56])).index)\n",
    "\n",
    "train_df = train_df.drop(((train_df[train_df['pickup_latitude'] > 41.71])).index)\n",
    "train_df = train_df.drop(((train_df[train_df['pickup_latitude'] < 40.57])).index)\n",
    "\n",
    "train_df = train_df.drop(((train_df[train_df['dropoff_longitude'] > -72.99])).index)\n",
    "train_df = train_df.drop(((train_df[train_df['dropoff_longitude'] < -74.26])).index)\n",
    "\n",
    "train_df = train_df.drop(((train_df[train_df['pickup_longitude'] > -72.98])).index)\n",
    "train_df = train_df.drop(((train_df[train_df['pickup_longitude'] < -74.25])).index)\n",
    "\n",
    "train_df.shape"
   ]
  },
  {
   "cell_type": "markdown",
   "metadata": {},
   "source": [
    "### Calculating euclidean distance in km for training set"
   ]
  },
  {
   "cell_type": "code",
   "execution_count": 20,
   "metadata": {},
   "outputs": [
    {
     "name": "stdout",
     "output_type": "stream",
     "text": [
      "(1081003,)\n"
     ]
    }
   ],
   "source": [
    "# Reference for formula - https://math.stackexchange.com/questions/29157/how-do-i-convert-the-distance-between-two-lat-long-points-into-feet-meters\n",
    "\n",
    "train_df['longitude_difference'] = (train_df['pickup_longitude'] - train_df['dropoff_longitude']).abs()\n",
    "train_df['latitude_difference'] = (train_df['pickup_latitude'] - train_df['dropoff_latitude']).abs()\n",
    "theta = (train_df['pickup_latitude'] + train_df['dropoff_latitude'])/2\n",
    "print(theta.shape)\n",
    "c = []\n",
    "for i in theta:\n",
    "    c.append(np.power(math.cos(np.radians(i)),2))\n",
    "train_df['euclidean_distance'] = (np.sqrt(c*np.power(np.radians(train_df['longitude_difference']),2) + np.power(np.radians(train_df['latitude_difference']),2)))*6371"
   ]
  },
  {
   "cell_type": "markdown",
   "metadata": {},
   "source": [
    "### Rounding off the lat diff, long diff and distance values upto 4 decimals"
   ]
  },
  {
   "cell_type": "code",
   "execution_count": 21,
   "metadata": {
    "collapsed": true
   },
   "outputs": [],
   "source": [
    "train_df['longitude_difference'] = train_df['longitude_difference'].round(4)\n",
    "train_df['latitude_difference'] = train_df['latitude_difference'].round(4)\n",
    "train_df['euclidean_distance'] = train_df['euclidean_distance'].round(4)"
   ]
  },
  {
   "cell_type": "code",
   "execution_count": 22,
   "metadata": {},
   "outputs": [
    {
     "name": "stdout",
     "output_type": "stream",
     "text": [
      "                             key  fare_amount          pickup_datetime  \\\n",
      "0  2010-06-04 14:49:00.000000100          5.7  2010-06-04 14:49:00 UTC   \n",
      "1  2012-12-06 18:05:00.000000201         35.0  2012-12-06 18:05:00 UTC   \n",
      "2    2014-07-20 12:48:35.0000001         17.0  2014-07-20 12:48:35 UTC   \n",
      "3    2013-05-10 16:39:08.0000001          5.0  2013-05-10 16:39:08 UTC   \n",
      "4   2010-05-17 07:44:00.00000096         17.3  2010-05-17 07:44:00 UTC   \n",
      "\n",
      "   pickup_longitude  pickup_latitude  dropoff_longitude  dropoff_latitude  \\\n",
      "0          -73.9935          40.7614           -73.9797           40.7596   \n",
      "1          -73.9533          40.7878           -73.9444           40.7198   \n",
      "2          -73.9734          40.7439           -73.9540           40.7661   \n",
      "3          -73.9717          40.7634           -73.9620           40.7766   \n",
      "4          -73.9510          40.7856           -74.0102           40.7203   \n",
      "\n",
      "   passenger_count  longitude_difference  latitude_difference  \\\n",
      "0                5                0.0138               0.0018   \n",
      "1                2                0.0089               0.0680   \n",
      "2                1                0.0194               0.0222   \n",
      "3                1                0.0097               0.0132   \n",
      "4                1                0.0592               0.0653   \n",
      "\n",
      "   euclidean_distance  \n",
      "0              1.1794  \n",
      "1              7.5983  \n",
      "2              2.9604  \n",
      "3              1.6798  \n",
      "4              8.8085  \n"
     ]
    }
   ],
   "source": [
    "print(train_df.head())"
   ]
  },
  {
   "cell_type": "markdown",
   "metadata": {},
   "source": [
    "### Extracting date and time using pandas function"
   ]
  },
  {
   "cell_type": "code",
   "execution_count": 23,
   "metadata": {},
   "outputs": [
    {
     "data": {
      "text/plain": [
       "key                             object\n",
       "fare_amount                    float64\n",
       "pickup_datetime         datetime64[ns]\n",
       "pickup_longitude               float64\n",
       "pickup_latitude                float64\n",
       "dropoff_longitude              float64\n",
       "dropoff_latitude               float64\n",
       "passenger_count                  int64\n",
       "longitude_difference           float64\n",
       "latitude_difference            float64\n",
       "euclidean_distance             float64\n",
       "dtype: object"
      ]
     },
     "execution_count": 23,
     "metadata": {},
     "output_type": "execute_result"
    }
   ],
   "source": [
    "train_df['pickup_datetime']  = pd.to_datetime(train_df['pickup_datetime'])\n",
    "train_df.dtypes"
   ]
  },
  {
   "cell_type": "markdown",
   "metadata": {},
   "source": [
    "### Getting specific individual values of hour, day, date, month and year from 'pickup_datetime' "
   ]
  },
  {
   "cell_type": "code",
   "execution_count": 24,
   "metadata": {
    "collapsed": true
   },
   "outputs": [],
   "source": [
    "train_df['Hour'] = train_df['pickup_datetime'].dt.hour\n",
    "train_df['DayofWeek'] = train_df['pickup_datetime'].dt.dayofweek\n",
    "train_df['Date'] = train_df['pickup_datetime'].dt.day\n",
    "train_df['Month'] = train_df['pickup_datetime'].dt.month\n",
    "train_df['Year'] = train_df['pickup_datetime'].dt.year"
   ]
  },
  {
   "cell_type": "markdown",
   "metadata": {},
   "source": [
    "### Most of the taxi rides are to and from the airport. If the pickup or dropoff location are within 1km from the airport, we assume they are travelling to or from the airport. Value of 1 is set if passenger is travelling to a particular airport."
   ]
  },
  {
   "cell_type": "code",
   "execution_count": 25,
   "metadata": {
    "collapsed": true
   },
   "outputs": [],
   "source": [
    "jfk_lat = 40.6413\n",
    "jfk_long = -73.7781\n",
    "\n",
    "lga_lat = 40.7769\n",
    "lga_long = -73.8740\n",
    "\n",
    "ewr_lat = 40.6895\n",
    "ewr_long = -74.1745\n",
    "\n",
    "jfk = []\n",
    "for index, row in train_df.iterrows():\n",
    "    if((row['pickup_latitude'] - jfk_lat < 0.01 and row['pickup_longitude'] - jfk_long < 0.01) or (row['dropoff_latitude'] - jfk_lat < 0.01 and row['dropoff_longitude'] - jfk_long < 0.01)) :\n",
    "        jfk.append(1)\n",
    "    else:\n",
    "        jfk.append(0)\n",
    "    \n",
    "train_df['JFK'] = jfk\n",
    "\n",
    "lga = []\n",
    "for index, row in train_df.iterrows():\n",
    "    if((row['pickup_latitude'] - lga_lat < 0.01 and row['pickup_longitude'] - lga_long < 0.01) or (row['dropoff_latitude'] - lga_lat < 0.01 and row['dropoff_longitude'] - lga_long < 0.01)) :\n",
    "        lga.append(1)\n",
    "    else:\n",
    "        lga.append(0)\n",
    "\n",
    "train_df['LGA'] = lga\n",
    "\n",
    "ewr = []\n",
    "for index, row in train_df.iterrows():\n",
    "    if((row['pickup_latitude'] - ewr_lat < 0.01 and row['pickup_longitude'] - ewr_long < 0.01) or (row['dropoff_latitude'] - ewr_lat < 0.01 and row['dropoff_longitude'] - ewr_long < 0.01)) :\n",
    "        ewr.append(1)\n",
    "    else:\n",
    "        ewr.append(0)\n",
    "\n",
    "train_df['EWR'] = ewr"
   ]
  },
  {
   "cell_type": "code",
   "execution_count": 26,
   "metadata": {},
   "outputs": [
    {
     "data": {
      "text/html": [
       "<div>\n",
       "<style>\n",
       "    .dataframe thead tr:only-child th {\n",
       "        text-align: right;\n",
       "    }\n",
       "\n",
       "    .dataframe thead th {\n",
       "        text-align: left;\n",
       "    }\n",
       "\n",
       "    .dataframe tbody tr th {\n",
       "        vertical-align: top;\n",
       "    }\n",
       "</style>\n",
       "<table border=\"1\" class=\"dataframe\">\n",
       "  <thead>\n",
       "    <tr style=\"text-align: right;\">\n",
       "      <th></th>\n",
       "      <th>key</th>\n",
       "      <th>fare_amount</th>\n",
       "      <th>pickup_datetime</th>\n",
       "      <th>pickup_longitude</th>\n",
       "      <th>pickup_latitude</th>\n",
       "      <th>dropoff_longitude</th>\n",
       "      <th>dropoff_latitude</th>\n",
       "      <th>passenger_count</th>\n",
       "      <th>longitude_difference</th>\n",
       "      <th>latitude_difference</th>\n",
       "      <th>euclidean_distance</th>\n",
       "      <th>Hour</th>\n",
       "      <th>DayofWeek</th>\n",
       "      <th>Date</th>\n",
       "      <th>Month</th>\n",
       "      <th>Year</th>\n",
       "      <th>JFK</th>\n",
       "      <th>LGA</th>\n",
       "      <th>EWR</th>\n",
       "    </tr>\n",
       "  </thead>\n",
       "  <tbody>\n",
       "    <tr>\n",
       "      <th>0</th>\n",
       "      <td>2010-06-04 14:49:00.000000100</td>\n",
       "      <td>5.7</td>\n",
       "      <td>2010-06-04 14:49:00</td>\n",
       "      <td>-73.9935</td>\n",
       "      <td>40.7614</td>\n",
       "      <td>-73.9797</td>\n",
       "      <td>40.7596</td>\n",
       "      <td>5</td>\n",
       "      <td>0.0138</td>\n",
       "      <td>0.0018</td>\n",
       "      <td>1.1794</td>\n",
       "      <td>14</td>\n",
       "      <td>4</td>\n",
       "      <td>4</td>\n",
       "      <td>6</td>\n",
       "      <td>2010</td>\n",
       "      <td>0</td>\n",
       "      <td>1</td>\n",
       "      <td>0</td>\n",
       "    </tr>\n",
       "    <tr>\n",
       "      <th>1</th>\n",
       "      <td>2012-12-06 18:05:00.000000201</td>\n",
       "      <td>35.0</td>\n",
       "      <td>2012-12-06 18:05:00</td>\n",
       "      <td>-73.9533</td>\n",
       "      <td>40.7878</td>\n",
       "      <td>-73.9444</td>\n",
       "      <td>40.7198</td>\n",
       "      <td>2</td>\n",
       "      <td>0.0089</td>\n",
       "      <td>0.0680</td>\n",
       "      <td>7.5983</td>\n",
       "      <td>18</td>\n",
       "      <td>3</td>\n",
       "      <td>6</td>\n",
       "      <td>12</td>\n",
       "      <td>2012</td>\n",
       "      <td>0</td>\n",
       "      <td>1</td>\n",
       "      <td>0</td>\n",
       "    </tr>\n",
       "    <tr>\n",
       "      <th>2</th>\n",
       "      <td>2014-07-20 12:48:35.0000001</td>\n",
       "      <td>17.0</td>\n",
       "      <td>2014-07-20 12:48:35</td>\n",
       "      <td>-73.9734</td>\n",
       "      <td>40.7439</td>\n",
       "      <td>-73.9540</td>\n",
       "      <td>40.7661</td>\n",
       "      <td>1</td>\n",
       "      <td>0.0194</td>\n",
       "      <td>0.0222</td>\n",
       "      <td>2.9604</td>\n",
       "      <td>12</td>\n",
       "      <td>6</td>\n",
       "      <td>20</td>\n",
       "      <td>7</td>\n",
       "      <td>2014</td>\n",
       "      <td>0</td>\n",
       "      <td>1</td>\n",
       "      <td>0</td>\n",
       "    </tr>\n",
       "    <tr>\n",
       "      <th>3</th>\n",
       "      <td>2013-05-10 16:39:08.0000001</td>\n",
       "      <td>5.0</td>\n",
       "      <td>2013-05-10 16:39:08</td>\n",
       "      <td>-73.9717</td>\n",
       "      <td>40.7634</td>\n",
       "      <td>-73.9620</td>\n",
       "      <td>40.7766</td>\n",
       "      <td>1</td>\n",
       "      <td>0.0097</td>\n",
       "      <td>0.0132</td>\n",
       "      <td>1.6798</td>\n",
       "      <td>16</td>\n",
       "      <td>4</td>\n",
       "      <td>10</td>\n",
       "      <td>5</td>\n",
       "      <td>2013</td>\n",
       "      <td>0</td>\n",
       "      <td>1</td>\n",
       "      <td>0</td>\n",
       "    </tr>\n",
       "    <tr>\n",
       "      <th>4</th>\n",
       "      <td>2010-05-17 07:44:00.00000096</td>\n",
       "      <td>17.3</td>\n",
       "      <td>2010-05-17 07:44:00</td>\n",
       "      <td>-73.9510</td>\n",
       "      <td>40.7856</td>\n",
       "      <td>-74.0102</td>\n",
       "      <td>40.7203</td>\n",
       "      <td>1</td>\n",
       "      <td>0.0592</td>\n",
       "      <td>0.0653</td>\n",
       "      <td>8.8085</td>\n",
       "      <td>7</td>\n",
       "      <td>0</td>\n",
       "      <td>17</td>\n",
       "      <td>5</td>\n",
       "      <td>2010</td>\n",
       "      <td>0</td>\n",
       "      <td>1</td>\n",
       "      <td>0</td>\n",
       "    </tr>\n",
       "  </tbody>\n",
       "</table>\n",
       "</div>"
      ],
      "text/plain": [
       "                             key  fare_amount     pickup_datetime  \\\n",
       "0  2010-06-04 14:49:00.000000100          5.7 2010-06-04 14:49:00   \n",
       "1  2012-12-06 18:05:00.000000201         35.0 2012-12-06 18:05:00   \n",
       "2    2014-07-20 12:48:35.0000001         17.0 2014-07-20 12:48:35   \n",
       "3    2013-05-10 16:39:08.0000001          5.0 2013-05-10 16:39:08   \n",
       "4   2010-05-17 07:44:00.00000096         17.3 2010-05-17 07:44:00   \n",
       "\n",
       "   pickup_longitude  pickup_latitude  dropoff_longitude  dropoff_latitude  \\\n",
       "0          -73.9935          40.7614           -73.9797           40.7596   \n",
       "1          -73.9533          40.7878           -73.9444           40.7198   \n",
       "2          -73.9734          40.7439           -73.9540           40.7661   \n",
       "3          -73.9717          40.7634           -73.9620           40.7766   \n",
       "4          -73.9510          40.7856           -74.0102           40.7203   \n",
       "\n",
       "   passenger_count  longitude_difference  latitude_difference  \\\n",
       "0                5                0.0138               0.0018   \n",
       "1                2                0.0089               0.0680   \n",
       "2                1                0.0194               0.0222   \n",
       "3                1                0.0097               0.0132   \n",
       "4                1                0.0592               0.0653   \n",
       "\n",
       "   euclidean_distance  Hour  DayofWeek  Date  Month  Year  JFK  LGA  EWR  \n",
       "0              1.1794    14          4     4      6  2010    0    1    0  \n",
       "1              7.5983    18          3     6     12  2012    0    1    0  \n",
       "2              2.9604    12          6    20      7  2014    0    1    0  \n",
       "3              1.6798    16          4    10      5  2013    0    1    0  \n",
       "4              8.8085     7          0    17      5  2010    0    1    0  "
      ]
     },
     "execution_count": 26,
     "metadata": {},
     "output_type": "execute_result"
    }
   ],
   "source": [
    "train_df.head()"
   ]
  },
  {
   "cell_type": "markdown",
   "metadata": {},
   "source": [
    "### Using external OSRM API for getting the travel duration for each ride."
   ]
  },
  {
   "cell_type": "code",
   "execution_count": 27,
   "metadata": {
    "collapsed": true
   },
   "outputs": [],
   "source": [
    "def get_duration(lat1, long1, lat2, long2):\n",
    "    lat1 = str(lat1)\n",
    "    long1 = str(long1)\n",
    "    lat2 = str(lat2)\n",
    "    long2 = str(long2)\n",
    "    r = requests.get('http://router.project-osrm.org/route/v1/driving/%s,%s;%s,%s' %(long1,lat1,long2,lat2))\n",
    "    try:\n",
    "        output = r.json()\n",
    "        for i in output['routes']:\n",
    "            duration = i['duration']\n",
    "    except:\n",
    "        duration = 0\n",
    "    return duration"
   ]
  },
  {
   "cell_type": "code",
   "execution_count": 28,
   "metadata": {
    "collapsed": true
   },
   "outputs": [],
   "source": [
    "duration = []\n",
    "for index, row in train_df.iterrows():\n",
    "    duration.append(get_duration(row['pickup_latitude'],row['pickup_longitude'],row['dropoff_latitude'],row['dropoff_longitude']))\n",
    "\n",
    "train_df['Duration'] = duration"
   ]
  },
  {
   "cell_type": "markdown",
   "metadata": {},
   "source": [
    "### Rounding off the lat and long values of test set upto 4 decimals"
   ]
  },
  {
   "cell_type": "code",
   "execution_count": 29,
   "metadata": {
    "collapsed": true
   },
   "outputs": [],
   "source": [
    "test_df.head()\n",
    "test_df['pickup_longitude'] = test_df['pickup_longitude'].round(4)\n",
    "test_df['pickup_latitude'] = test_df['pickup_latitude'].round(4)\n",
    "test_df['dropoff_longitude'] = test_df['dropoff_longitude'].round(4)\n",
    "test_df['dropoff_latitude'] = test_df['dropoff_latitude'].round(4)"
   ]
  },
  {
   "cell_type": "markdown",
   "metadata": {},
   "source": [
    "### Calculating euclidean distance in km for test set"
   ]
  },
  {
   "cell_type": "code",
   "execution_count": 30,
   "metadata": {},
   "outputs": [
    {
     "name": "stdout",
     "output_type": "stream",
     "text": [
      "(9914,)\n"
     ]
    }
   ],
   "source": [
    "# Reference for formula - https://math.stackexchange.com/questions/29157/how-do-i-convert-the-distance-between-two-lat-long-points-into-feet-meters\n",
    "\n",
    "test_df['longitude_difference'] = (test_df['pickup_longitude'] - test_df['dropoff_longitude']).abs()\n",
    "test_df['latitude_difference'] = (test_df['pickup_latitude'] - test_df['dropoff_latitude']).abs()\n",
    "theta = (test_df['pickup_latitude'] + test_df['dropoff_latitude'])/2\n",
    "print(theta.shape)\n",
    "c = []\n",
    "for i in theta:\n",
    "    c.append(np.power(math.cos(np.radians(i)),2))\n",
    "test_df['euclidean_distance'] = (np.sqrt(c*np.power(np.radians(test_df['longitude_difference']),2) + np.power(np.radians(test_df['latitude_difference']),2)))*6371"
   ]
  },
  {
   "cell_type": "markdown",
   "metadata": {},
   "source": [
    "### Rounding off the lat diff, long diff and distance values of test set upto 4 decimals"
   ]
  },
  {
   "cell_type": "code",
   "execution_count": 31,
   "metadata": {
    "collapsed": true
   },
   "outputs": [],
   "source": [
    "test_df['longitude_difference'] = test_df['longitude_difference'].round(4)\n",
    "test_df['latitude_difference'] = test_df['latitude_difference'].round(4)\n",
    "test_df['euclidean_distance'] = test_df['euclidean_distance'].round(4)"
   ]
  },
  {
   "cell_type": "markdown",
   "metadata": {},
   "source": [
    "### Extracting date and time of test set using pandas function"
   ]
  },
  {
   "cell_type": "code",
   "execution_count": 32,
   "metadata": {},
   "outputs": [
    {
     "data": {
      "text/plain": [
       "key                             object\n",
       "pickup_datetime         datetime64[ns]\n",
       "pickup_longitude               float64\n",
       "pickup_latitude                float64\n",
       "dropoff_longitude              float64\n",
       "dropoff_latitude               float64\n",
       "passenger_count                  int64\n",
       "longitude_difference           float64\n",
       "latitude_difference            float64\n",
       "euclidean_distance             float64\n",
       "dtype: object"
      ]
     },
     "execution_count": 32,
     "metadata": {},
     "output_type": "execute_result"
    }
   ],
   "source": [
    "test_df['pickup_datetime']  = pd.to_datetime(test_df['pickup_datetime'])\n",
    "test_df.dtypes"
   ]
  },
  {
   "cell_type": "markdown",
   "metadata": {},
   "source": [
    "### Getting specific individual values of test set - hour, day, date, month and year from 'pickup_datetime'"
   ]
  },
  {
   "cell_type": "code",
   "execution_count": 33,
   "metadata": {
    "collapsed": true
   },
   "outputs": [],
   "source": [
    "test_df['Hour'] = test_df['pickup_datetime'].dt.hour\n",
    "test_df['DayofWeek'] = test_df['pickup_datetime'].dt.dayofweek\n",
    "test_df['Date'] = test_df['pickup_datetime'].dt.day\n",
    "test_df['Month'] = test_df['pickup_datetime'].dt.month\n",
    "test_df['Year'] = test_df['pickup_datetime'].dt.year"
   ]
  },
  {
   "cell_type": "code",
   "execution_count": 34,
   "metadata": {},
   "outputs": [
    {
     "data": {
      "text/html": [
       "<div>\n",
       "<style>\n",
       "    .dataframe thead tr:only-child th {\n",
       "        text-align: right;\n",
       "    }\n",
       "\n",
       "    .dataframe thead th {\n",
       "        text-align: left;\n",
       "    }\n",
       "\n",
       "    .dataframe tbody tr th {\n",
       "        vertical-align: top;\n",
       "    }\n",
       "</style>\n",
       "<table border=\"1\" class=\"dataframe\">\n",
       "  <thead>\n",
       "    <tr style=\"text-align: right;\">\n",
       "      <th></th>\n",
       "      <th>key</th>\n",
       "      <th>pickup_datetime</th>\n",
       "      <th>pickup_longitude</th>\n",
       "      <th>pickup_latitude</th>\n",
       "      <th>dropoff_longitude</th>\n",
       "      <th>dropoff_latitude</th>\n",
       "      <th>passenger_count</th>\n",
       "      <th>longitude_difference</th>\n",
       "      <th>latitude_difference</th>\n",
       "      <th>euclidean_distance</th>\n",
       "      <th>Hour</th>\n",
       "      <th>DayofWeek</th>\n",
       "      <th>Date</th>\n",
       "      <th>Month</th>\n",
       "      <th>Year</th>\n",
       "    </tr>\n",
       "  </thead>\n",
       "  <tbody>\n",
       "    <tr>\n",
       "      <th>0</th>\n",
       "      <td>2015-01-27 13:08:24.0000002</td>\n",
       "      <td>2015-01-27 13:08:24</td>\n",
       "      <td>-73.9733</td>\n",
       "      <td>40.7638</td>\n",
       "      <td>-73.9814</td>\n",
       "      <td>40.7438</td>\n",
       "      <td>1</td>\n",
       "      <td>0.0081</td>\n",
       "      <td>0.0200</td>\n",
       "      <td>2.3262</td>\n",
       "      <td>13</td>\n",
       "      <td>1</td>\n",
       "      <td>27</td>\n",
       "      <td>1</td>\n",
       "      <td>2015</td>\n",
       "    </tr>\n",
       "    <tr>\n",
       "      <th>1</th>\n",
       "      <td>2015-01-27 13:08:24.0000003</td>\n",
       "      <td>2015-01-27 13:08:24</td>\n",
       "      <td>-73.9869</td>\n",
       "      <td>40.7194</td>\n",
       "      <td>-73.9989</td>\n",
       "      <td>40.7392</td>\n",
       "      <td>1</td>\n",
       "      <td>0.0120</td>\n",
       "      <td>0.0198</td>\n",
       "      <td>2.4228</td>\n",
       "      <td>13</td>\n",
       "      <td>1</td>\n",
       "      <td>27</td>\n",
       "      <td>1</td>\n",
       "      <td>2015</td>\n",
       "    </tr>\n",
       "    <tr>\n",
       "      <th>2</th>\n",
       "      <td>2011-10-08 11:53:44.0000002</td>\n",
       "      <td>2011-10-08 11:53:44</td>\n",
       "      <td>-73.9825</td>\n",
       "      <td>40.7513</td>\n",
       "      <td>-73.9797</td>\n",
       "      <td>40.7461</td>\n",
       "      <td>1</td>\n",
       "      <td>0.0028</td>\n",
       "      <td>0.0052</td>\n",
       "      <td>0.6245</td>\n",
       "      <td>11</td>\n",
       "      <td>5</td>\n",
       "      <td>8</td>\n",
       "      <td>10</td>\n",
       "      <td>2011</td>\n",
       "    </tr>\n",
       "    <tr>\n",
       "      <th>3</th>\n",
       "      <td>2012-12-01 21:12:12.0000002</td>\n",
       "      <td>2012-12-01 21:12:12</td>\n",
       "      <td>-73.9812</td>\n",
       "      <td>40.7678</td>\n",
       "      <td>-73.9904</td>\n",
       "      <td>40.7516</td>\n",
       "      <td>1</td>\n",
       "      <td>0.0092</td>\n",
       "      <td>0.0162</td>\n",
       "      <td>1.9609</td>\n",
       "      <td>21</td>\n",
       "      <td>5</td>\n",
       "      <td>1</td>\n",
       "      <td>12</td>\n",
       "      <td>2012</td>\n",
       "    </tr>\n",
       "    <tr>\n",
       "      <th>4</th>\n",
       "      <td>2012-12-01 21:12:12.0000003</td>\n",
       "      <td>2012-12-01 21:12:12</td>\n",
       "      <td>-73.9660</td>\n",
       "      <td>40.7898</td>\n",
       "      <td>-73.9886</td>\n",
       "      <td>40.7444</td>\n",
       "      <td>1</td>\n",
       "      <td>0.0226</td>\n",
       "      <td>0.0454</td>\n",
       "      <td>5.3951</td>\n",
       "      <td>21</td>\n",
       "      <td>5</td>\n",
       "      <td>1</td>\n",
       "      <td>12</td>\n",
       "      <td>2012</td>\n",
       "    </tr>\n",
       "  </tbody>\n",
       "</table>\n",
       "</div>"
      ],
      "text/plain": [
       "                           key     pickup_datetime  pickup_longitude  \\\n",
       "0  2015-01-27 13:08:24.0000002 2015-01-27 13:08:24          -73.9733   \n",
       "1  2015-01-27 13:08:24.0000003 2015-01-27 13:08:24          -73.9869   \n",
       "2  2011-10-08 11:53:44.0000002 2011-10-08 11:53:44          -73.9825   \n",
       "3  2012-12-01 21:12:12.0000002 2012-12-01 21:12:12          -73.9812   \n",
       "4  2012-12-01 21:12:12.0000003 2012-12-01 21:12:12          -73.9660   \n",
       "\n",
       "   pickup_latitude  dropoff_longitude  dropoff_latitude  passenger_count  \\\n",
       "0          40.7638           -73.9814           40.7438                1   \n",
       "1          40.7194           -73.9989           40.7392                1   \n",
       "2          40.7513           -73.9797           40.7461                1   \n",
       "3          40.7678           -73.9904           40.7516                1   \n",
       "4          40.7898           -73.9886           40.7444                1   \n",
       "\n",
       "   longitude_difference  latitude_difference  euclidean_distance  Hour  \\\n",
       "0                0.0081               0.0200              2.3262    13   \n",
       "1                0.0120               0.0198              2.4228    13   \n",
       "2                0.0028               0.0052              0.6245    11   \n",
       "3                0.0092               0.0162              1.9609    21   \n",
       "4                0.0226               0.0454              5.3951    21   \n",
       "\n",
       "   DayofWeek  Date  Month  Year  \n",
       "0          1    27      1  2015  \n",
       "1          1    27      1  2015  \n",
       "2          5     8     10  2011  \n",
       "3          5     1     12  2012  \n",
       "4          5     1     12  2012  "
      ]
     },
     "execution_count": 34,
     "metadata": {},
     "output_type": "execute_result"
    }
   ],
   "source": [
    "test_df.head()"
   ]
  },
  {
   "cell_type": "markdown",
   "metadata": {},
   "source": [
    "### Most of the taxi rides are to and from the airport. If the pickup or dropoff location are within 1km from the airport, we assume they are travelling to or from the airport. A value of 1 is set if passenger is travelling to a particular airport. (For Test Set)"
   ]
  },
  {
   "cell_type": "code",
   "execution_count": 35,
   "metadata": {
    "collapsed": true
   },
   "outputs": [],
   "source": [
    "jfk_lat = 40.6413\n",
    "jfk_long = -73.7781\n",
    "\n",
    "lga_lat = 40.7769\n",
    "lga_long = -73.8740\n",
    "\n",
    "ewr_lat = 40.6895\n",
    "ewr_long = -74.1745\n",
    "\n",
    "jfk = []\n",
    "for index, row in test_df.iterrows():\n",
    "    if((row['pickup_latitude'] - jfk_lat < 0.01 and row['pickup_longitude'] - jfk_long < 0.01) or (row['dropoff_latitude'] - jfk_lat < 0.01 and row['dropoff_longitude'] - jfk_long < 0.01)) :\n",
    "        jfk.append(1)\n",
    "    else:\n",
    "        jfk.append(0)\n",
    "    \n",
    "test_df['JFK'] = jfk\n",
    "\n",
    "lga = []\n",
    "for index, row in test_df.iterrows():\n",
    "    if((row['pickup_latitude'] - lga_lat < 0.01 and row['pickup_longitude'] - lga_long < 0.01) or (row['dropoff_latitude'] - lga_lat < 0.01 and row['dropoff_longitude'] - lga_long < 0.01)) :\n",
    "        lga.append(1)\n",
    "    else:\n",
    "        lga.append(0)\n",
    "\n",
    "test_df['LGA'] = lga\n",
    "\n",
    "ewr = []\n",
    "for index, row in test_df.iterrows():\n",
    "    if((row['pickup_latitude'] - ewr_lat < 0.01 and row['pickup_longitude'] - ewr_long < 0.01) or (row['dropoff_latitude'] - ewr_lat < 0.01 and row['dropoff_longitude'] - ewr_long < 0.01)) :\n",
    "        ewr.append(1)\n",
    "    else:\n",
    "        ewr.append(0)\n",
    "\n",
    "test_df['EWR'] = ewr"
   ]
  },
  {
   "cell_type": "code",
   "execution_count": 36,
   "metadata": {},
   "outputs": [
    {
     "data": {
      "text/html": [
       "<div>\n",
       "<style>\n",
       "    .dataframe thead tr:only-child th {\n",
       "        text-align: right;\n",
       "    }\n",
       "\n",
       "    .dataframe thead th {\n",
       "        text-align: left;\n",
       "    }\n",
       "\n",
       "    .dataframe tbody tr th {\n",
       "        vertical-align: top;\n",
       "    }\n",
       "</style>\n",
       "<table border=\"1\" class=\"dataframe\">\n",
       "  <thead>\n",
       "    <tr style=\"text-align: right;\">\n",
       "      <th></th>\n",
       "      <th>key</th>\n",
       "      <th>pickup_datetime</th>\n",
       "      <th>pickup_longitude</th>\n",
       "      <th>pickup_latitude</th>\n",
       "      <th>dropoff_longitude</th>\n",
       "      <th>dropoff_latitude</th>\n",
       "      <th>passenger_count</th>\n",
       "      <th>longitude_difference</th>\n",
       "      <th>latitude_difference</th>\n",
       "      <th>euclidean_distance</th>\n",
       "      <th>Hour</th>\n",
       "      <th>DayofWeek</th>\n",
       "      <th>Date</th>\n",
       "      <th>Month</th>\n",
       "      <th>Year</th>\n",
       "      <th>JFK</th>\n",
       "      <th>LGA</th>\n",
       "      <th>EWR</th>\n",
       "    </tr>\n",
       "  </thead>\n",
       "  <tbody>\n",
       "    <tr>\n",
       "      <th>0</th>\n",
       "      <td>2015-01-27 13:08:24.0000002</td>\n",
       "      <td>2015-01-27 13:08:24</td>\n",
       "      <td>-73.9733</td>\n",
       "      <td>40.7638</td>\n",
       "      <td>-73.9814</td>\n",
       "      <td>40.7438</td>\n",
       "      <td>1</td>\n",
       "      <td>0.0081</td>\n",
       "      <td>0.0200</td>\n",
       "      <td>2.3262</td>\n",
       "      <td>13</td>\n",
       "      <td>1</td>\n",
       "      <td>27</td>\n",
       "      <td>1</td>\n",
       "      <td>2015</td>\n",
       "      <td>0</td>\n",
       "      <td>1</td>\n",
       "      <td>0</td>\n",
       "    </tr>\n",
       "    <tr>\n",
       "      <th>1</th>\n",
       "      <td>2015-01-27 13:08:24.0000003</td>\n",
       "      <td>2015-01-27 13:08:24</td>\n",
       "      <td>-73.9869</td>\n",
       "      <td>40.7194</td>\n",
       "      <td>-73.9989</td>\n",
       "      <td>40.7392</td>\n",
       "      <td>1</td>\n",
       "      <td>0.0120</td>\n",
       "      <td>0.0198</td>\n",
       "      <td>2.4228</td>\n",
       "      <td>13</td>\n",
       "      <td>1</td>\n",
       "      <td>27</td>\n",
       "      <td>1</td>\n",
       "      <td>2015</td>\n",
       "      <td>0</td>\n",
       "      <td>1</td>\n",
       "      <td>0</td>\n",
       "    </tr>\n",
       "    <tr>\n",
       "      <th>2</th>\n",
       "      <td>2011-10-08 11:53:44.0000002</td>\n",
       "      <td>2011-10-08 11:53:44</td>\n",
       "      <td>-73.9825</td>\n",
       "      <td>40.7513</td>\n",
       "      <td>-73.9797</td>\n",
       "      <td>40.7461</td>\n",
       "      <td>1</td>\n",
       "      <td>0.0028</td>\n",
       "      <td>0.0052</td>\n",
       "      <td>0.6245</td>\n",
       "      <td>11</td>\n",
       "      <td>5</td>\n",
       "      <td>8</td>\n",
       "      <td>10</td>\n",
       "      <td>2011</td>\n",
       "      <td>0</td>\n",
       "      <td>1</td>\n",
       "      <td>0</td>\n",
       "    </tr>\n",
       "    <tr>\n",
       "      <th>3</th>\n",
       "      <td>2012-12-01 21:12:12.0000002</td>\n",
       "      <td>2012-12-01 21:12:12</td>\n",
       "      <td>-73.9812</td>\n",
       "      <td>40.7678</td>\n",
       "      <td>-73.9904</td>\n",
       "      <td>40.7516</td>\n",
       "      <td>1</td>\n",
       "      <td>0.0092</td>\n",
       "      <td>0.0162</td>\n",
       "      <td>1.9609</td>\n",
       "      <td>21</td>\n",
       "      <td>5</td>\n",
       "      <td>1</td>\n",
       "      <td>12</td>\n",
       "      <td>2012</td>\n",
       "      <td>0</td>\n",
       "      <td>1</td>\n",
       "      <td>0</td>\n",
       "    </tr>\n",
       "    <tr>\n",
       "      <th>4</th>\n",
       "      <td>2012-12-01 21:12:12.0000003</td>\n",
       "      <td>2012-12-01 21:12:12</td>\n",
       "      <td>-73.9660</td>\n",
       "      <td>40.7898</td>\n",
       "      <td>-73.9886</td>\n",
       "      <td>40.7444</td>\n",
       "      <td>1</td>\n",
       "      <td>0.0226</td>\n",
       "      <td>0.0454</td>\n",
       "      <td>5.3951</td>\n",
       "      <td>21</td>\n",
       "      <td>5</td>\n",
       "      <td>1</td>\n",
       "      <td>12</td>\n",
       "      <td>2012</td>\n",
       "      <td>0</td>\n",
       "      <td>1</td>\n",
       "      <td>0</td>\n",
       "    </tr>\n",
       "  </tbody>\n",
       "</table>\n",
       "</div>"
      ],
      "text/plain": [
       "                           key     pickup_datetime  pickup_longitude  \\\n",
       "0  2015-01-27 13:08:24.0000002 2015-01-27 13:08:24          -73.9733   \n",
       "1  2015-01-27 13:08:24.0000003 2015-01-27 13:08:24          -73.9869   \n",
       "2  2011-10-08 11:53:44.0000002 2011-10-08 11:53:44          -73.9825   \n",
       "3  2012-12-01 21:12:12.0000002 2012-12-01 21:12:12          -73.9812   \n",
       "4  2012-12-01 21:12:12.0000003 2012-12-01 21:12:12          -73.9660   \n",
       "\n",
       "   pickup_latitude  dropoff_longitude  dropoff_latitude  passenger_count  \\\n",
       "0          40.7638           -73.9814           40.7438                1   \n",
       "1          40.7194           -73.9989           40.7392                1   \n",
       "2          40.7513           -73.9797           40.7461                1   \n",
       "3          40.7678           -73.9904           40.7516                1   \n",
       "4          40.7898           -73.9886           40.7444                1   \n",
       "\n",
       "   longitude_difference  latitude_difference  euclidean_distance  Hour  \\\n",
       "0                0.0081               0.0200              2.3262    13   \n",
       "1                0.0120               0.0198              2.4228    13   \n",
       "2                0.0028               0.0052              0.6245    11   \n",
       "3                0.0092               0.0162              1.9609    21   \n",
       "4                0.0226               0.0454              5.3951    21   \n",
       "\n",
       "   DayofWeek  Date  Month  Year  JFK  LGA  EWR  \n",
       "0          1    27      1  2015    0    1    0  \n",
       "1          1    27      1  2015    0    1    0  \n",
       "2          5     8     10  2011    0    1    0  \n",
       "3          5     1     12  2012    0    1    0  \n",
       "4          5     1     12  2012    0    1    0  "
      ]
     },
     "execution_count": 36,
     "metadata": {},
     "output_type": "execute_result"
    }
   ],
   "source": [
    "test_df.head()"
   ]
  },
  {
   "cell_type": "markdown",
   "metadata": {},
   "source": [
    "### Checking if euclidean distance of train set has any outliers"
   ]
  },
  {
   "cell_type": "code",
   "execution_count": 37,
   "metadata": {},
   "outputs": [
    {
     "data": {
      "text/plain": [
       "count    1.081003e+06\n",
       "mean     3.327412e+00\n",
       "std      3.761246e+00\n",
       "min      0.000000e+00\n",
       "25%      1.255100e+00\n",
       "50%      2.154700e+00\n",
       "75%      3.912400e+00\n",
       "max      1.115052e+02\n",
       "Name: euclidean_distance, dtype: float64"
      ]
     },
     "execution_count": 37,
     "metadata": {},
     "output_type": "execute_result"
    }
   ],
   "source": [
    "train_df['euclidean_distance'].describe()"
   ]
  },
  {
   "cell_type": "markdown",
   "metadata": {},
   "source": [
    "### Checking if euclidean distance of test set has any outliers"
   ]
  },
  {
   "cell_type": "code",
   "execution_count": 38,
   "metadata": {},
   "outputs": [
    {
     "data": {
      "text/plain": [
       "count    9914.000000\n",
       "mean        3.435386\n",
       "std         3.972452\n",
       "min         0.000000\n",
       "25%         1.296675\n",
       "50%         2.215300\n",
       "75%         4.044750\n",
       "max        99.993000\n",
       "Name: euclidean_distance, dtype: float64"
      ]
     },
     "execution_count": 38,
     "metadata": {},
     "output_type": "execute_result"
    }
   ],
   "source": [
    "test_df['euclidean_distance'].describe()"
   ]
  },
  {
   "cell_type": "markdown",
   "metadata": {},
   "source": [
    "### For visualizing the long and lat differences"
   ]
  },
  {
   "cell_type": "code",
   "execution_count": 39,
   "metadata": {},
   "outputs": [
    {
     "data": {
      "image/png": "[encoded data removed]",
      "text/plain": [
       "<matplotlib.figure.Figure at 0x1bf5c9e2358>"
      ]
     },
     "metadata": {},
     "output_type": "display_data"
    }
   ],
   "source": [
    "long = train_df['longitude_difference']\n",
    "lat = train_df['latitude_difference']\n",
    "plt.scatter(long, lat)\n",
    "plt.xlabel(\"longitude difference\")\n",
    "plt.ylabel(\"latitude difference\")\n",
    "plt.title(\"Scatter Plot\")\n",
    "plt.show()"
   ]
  },
  {
   "cell_type": "markdown",
   "metadata": {},
   "source": [
    "### Histogram to understand the ride distances in km"
   ]
  },
  {
   "cell_type": "code",
   "execution_count": 40,
   "metadata": {},
   "outputs": [
    {
     "data": {
      "image/png": "[encoded data removed]",
      "text/plain": [
       "<matplotlib.figure.Figure at 0x1bf5f747198>"
      ]
     },
     "metadata": {},
     "output_type": "display_data"
    },
    {
     "data": {
      "text/plain": [
       "count    1.081003e+06\n",
       "mean     3.327412e+00\n",
       "std      3.761246e+00\n",
       "min      0.000000e+00\n",
       "25%      1.255100e+00\n",
       "50%      2.154700e+00\n",
       "75%      3.912400e+00\n",
       "max      1.115052e+02\n",
       "Name: euclidean_distance, dtype: float64"
      ]
     },
     "execution_count": 40,
     "metadata": {},
     "output_type": "execute_result"
    }
   ],
   "source": [
    "train_df['euclidean_distance'].hist(bins=20, figsize=(6,4))\n",
    "plt.xlabel('Distance in km')\n",
    "plt.title('Histogram of ride distances in km')\n",
    "plt.show()\n",
    "train_df['euclidean_distance'].describe()"
   ]
  },
  {
   "cell_type": "markdown",
   "metadata": {},
   "source": [
    "### Average Cost per km"
   ]
  },
  {
   "cell_type": "code",
   "execution_count": 41,
   "metadata": {},
   "outputs": [
    {
     "name": "stdout",
     "output_type": "stream",
     "text": [
      "$3.40\n"
     ]
    }
   ],
   "source": [
    "average = train_df['fare_amount'].sum()/train_df['euclidean_distance'].sum()\n",
    "print(\"${:0.2f}\".format(average))"
   ]
  },
  {
   "cell_type": "markdown",
   "metadata": {},
   "source": [
    "### Calculating Pearson Coefficients and displaying Scatter Plots between the features"
   ]
  },
  {
   "cell_type": "code",
   "execution_count": 42,
   "metadata": {},
   "outputs": [
    {
     "name": "stdout",
     "output_type": "stream",
     "text": [
      "(0.82137277426390887, 0.0)\n"
     ]
    },
    {
     "data": {
      "image/png": "[encoded data removed]",
      "text/plain": [
       "<matplotlib.figure.Figure at 0x1bf5ca1f320>"
      ]
     },
     "metadata": {},
     "output_type": "display_data"
    }
   ],
   "source": [
    "r1 = pearsonr(train_df['euclidean_distance'], train_df['fare_amount'])\n",
    "print(r1)\n",
    "fig = plt.scatter(train_df['euclidean_distance'], train_df['fare_amount'])\n",
    "plt.xlabel('Euclidean distance in km')\n",
    "plt.ylabel('Fare Amount in $')\n",
    "plt.title('Scatter Plot')\n",
    "plt.savefig('scatter_e_f.png', dpi=300, bbox_inches='tight')\n",
    "plt.show()"
   ]
  },
  {
   "cell_type": "code",
   "execution_count": 43,
   "metadata": {},
   "outputs": [
    {
     "name": "stdout",
     "output_type": "stream",
     "text": [
      "(-0.026864595559522923, 9.6240298607141693e-172)\n"
     ]
    },
    {
     "data": {
      "image/png": "[encoded data removed]",
      "text/plain": [
       "<matplotlib.figure.Figure at 0x1bf5f7479e8>"
      ]
     },
     "metadata": {},
     "output_type": "display_data"
    }
   ],
   "source": [
    "r2 = pearsonr(train_df['Hour'], train_df['euclidean_distance'])\n",
    "print(r2)\n",
    "fig = plt.scatter(train_df['Hour'], train_df['euclidean_distance'])\n",
    "plt.xlabel('Hour of the day')\n",
    "plt.ylabel('Euclidean distance in km')\n",
    "plt.title('Scatter Plot')\n",
    "plt.savefig('scatter_h_e.png', dpi=300, bbox_inches='tight')\n",
    "plt.show()"
   ]
  },
  {
   "cell_type": "code",
   "execution_count": 44,
   "metadata": {},
   "outputs": [
    {
     "name": "stdout",
     "output_type": "stream",
     "text": [
      "(-0.01687642695929403, 6.1754169897242421e-69)\n"
     ]
    },
    {
     "data": {
      "image/png": "[encoded data removed]",
      "text/plain": [
       "<matplotlib.figure.Figure at 0x1bf5ca08f28>"
      ]
     },
     "metadata": {},
     "output_type": "display_data"
    }
   ],
   "source": [
    "r3 = pearsonr(train_df['Hour'], train_df['fare_amount'])\n",
    "print(r3)\n",
    "fig = plt.scatter(train_df['Hour'], train_df['fare_amount'])\n",
    "plt.xlabel('Hour of the day')\n",
    "plt.ylabel('Fare Amount in $')\n",
    "plt.title('Scatter Plot')\n",
    "plt.savefig('scatter_h_f.png', dpi=300, bbox_inches='tight')\n",
    "plt.show()"
   ]
  },
  {
   "cell_type": "markdown",
   "metadata": {},
   "source": [
    "### Pair wise plots between distance, fare amount and time of day"
   ]
  },
  {
   "cell_type": "code",
   "execution_count": 45,
   "metadata": {},
   "outputs": [
    {
     "data": {
      "image/png": "[encoded data removed]",
      "text/plain": [
       "<matplotlib.figure.Figure at 0x1bf5ca1fcc0>"
      ]
     },
     "metadata": {},
     "output_type": "display_data"
    }
   ],
   "source": [
    "sns.pairplot(train_df, vars=['euclidean_distance', 'fare_amount', 'Hour'])\n",
    "plt.show()"
   ]
  },
  {
   "cell_type": "code",
   "execution_count": 46,
   "metadata": {},
   "outputs": [
    {
     "data": {
      "text/html": [
       "<div>\n",
       "<style>\n",
       "    .dataframe thead tr:only-child th {\n",
       "        text-align: right;\n",
       "    }\n",
       "\n",
       "    .dataframe thead th {\n",
       "        text-align: left;\n",
       "    }\n",
       "\n",
       "    .dataframe tbody tr th {\n",
       "        vertical-align: top;\n",
       "    }\n",
       "</style>\n",
       "<table border=\"1\" class=\"dataframe\">\n",
       "  <thead>\n",
       "    <tr style=\"text-align: right;\">\n",
       "      <th></th>\n",
       "      <th>key</th>\n",
       "      <th>fare_amount</th>\n",
       "      <th>pickup_datetime</th>\n",
       "      <th>pickup_longitude</th>\n",
       "      <th>pickup_latitude</th>\n",
       "      <th>dropoff_longitude</th>\n",
       "      <th>dropoff_latitude</th>\n",
       "      <th>passenger_count</th>\n",
       "      <th>longitude_difference</th>\n",
       "      <th>latitude_difference</th>\n",
       "      <th>euclidean_distance</th>\n",
       "      <th>Hour</th>\n",
       "      <th>DayofWeek</th>\n",
       "      <th>Date</th>\n",
       "      <th>Month</th>\n",
       "      <th>Year</th>\n",
       "      <th>JFK</th>\n",
       "      <th>LGA</th>\n",
       "      <th>EWR</th>\n",
       "    </tr>\n",
       "  </thead>\n",
       "  <tbody>\n",
       "    <tr>\n",
       "      <th>0</th>\n",
       "      <td>2010-06-04 14:49:00.000000100</td>\n",
       "      <td>5.7</td>\n",
       "      <td>2010-06-04 14:49:00</td>\n",
       "      <td>-73.9935</td>\n",
       "      <td>40.7614</td>\n",
       "      <td>-73.9797</td>\n",
       "      <td>40.7596</td>\n",
       "      <td>5</td>\n",
       "      <td>0.0138</td>\n",
       "      <td>0.0018</td>\n",
       "      <td>1.1794</td>\n",
       "      <td>14</td>\n",
       "      <td>4</td>\n",
       "      <td>4</td>\n",
       "      <td>6</td>\n",
       "      <td>2010</td>\n",
       "      <td>0</td>\n",
       "      <td>1</td>\n",
       "      <td>0</td>\n",
       "    </tr>\n",
       "    <tr>\n",
       "      <th>1</th>\n",
       "      <td>2012-12-06 18:05:00.000000201</td>\n",
       "      <td>35.0</td>\n",
       "      <td>2012-12-06 18:05:00</td>\n",
       "      <td>-73.9533</td>\n",
       "      <td>40.7878</td>\n",
       "      <td>-73.9444</td>\n",
       "      <td>40.7198</td>\n",
       "      <td>2</td>\n",
       "      <td>0.0089</td>\n",
       "      <td>0.0680</td>\n",
       "      <td>7.5983</td>\n",
       "      <td>18</td>\n",
       "      <td>3</td>\n",
       "      <td>6</td>\n",
       "      <td>12</td>\n",
       "      <td>2012</td>\n",
       "      <td>0</td>\n",
       "      <td>1</td>\n",
       "      <td>0</td>\n",
       "    </tr>\n",
       "    <tr>\n",
       "      <th>2</th>\n",
       "      <td>2014-07-20 12:48:35.0000001</td>\n",
       "      <td>17.0</td>\n",
       "      <td>2014-07-20 12:48:35</td>\n",
       "      <td>-73.9734</td>\n",
       "      <td>40.7439</td>\n",
       "      <td>-73.9540</td>\n",
       "      <td>40.7661</td>\n",
       "      <td>1</td>\n",
       "      <td>0.0194</td>\n",
       "      <td>0.0222</td>\n",
       "      <td>2.9604</td>\n",
       "      <td>12</td>\n",
       "      <td>6</td>\n",
       "      <td>20</td>\n",
       "      <td>7</td>\n",
       "      <td>2014</td>\n",
       "      <td>0</td>\n",
       "      <td>1</td>\n",
       "      <td>0</td>\n",
       "    </tr>\n",
       "    <tr>\n",
       "      <th>3</th>\n",
       "      <td>2013-05-10 16:39:08.0000001</td>\n",
       "      <td>5.0</td>\n",
       "      <td>2013-05-10 16:39:08</td>\n",
       "      <td>-73.9717</td>\n",
       "      <td>40.7634</td>\n",
       "      <td>-73.9620</td>\n",
       "      <td>40.7766</td>\n",
       "      <td>1</td>\n",
       "      <td>0.0097</td>\n",
       "      <td>0.0132</td>\n",
       "      <td>1.6798</td>\n",
       "      <td>16</td>\n",
       "      <td>4</td>\n",
       "      <td>10</td>\n",
       "      <td>5</td>\n",
       "      <td>2013</td>\n",
       "      <td>0</td>\n",
       "      <td>1</td>\n",
       "      <td>0</td>\n",
       "    </tr>\n",
       "    <tr>\n",
       "      <th>4</th>\n",
       "      <td>2010-05-17 07:44:00.00000096</td>\n",
       "      <td>17.3</td>\n",
       "      <td>2010-05-17 07:44:00</td>\n",
       "      <td>-73.9510</td>\n",
       "      <td>40.7856</td>\n",
       "      <td>-74.0102</td>\n",
       "      <td>40.7203</td>\n",
       "      <td>1</td>\n",
       "      <td>0.0592</td>\n",
       "      <td>0.0653</td>\n",
       "      <td>8.8085</td>\n",
       "      <td>7</td>\n",
       "      <td>0</td>\n",
       "      <td>17</td>\n",
       "      <td>5</td>\n",
       "      <td>2010</td>\n",
       "      <td>0</td>\n",
       "      <td>1</td>\n",
       "      <td>0</td>\n",
       "    </tr>\n",
       "  </tbody>\n",
       "</table>\n",
       "</div>"
      ],
      "text/plain": [
       "                             key  fare_amount     pickup_datetime  \\\n",
       "0  2010-06-04 14:49:00.000000100          5.7 2010-06-04 14:49:00   \n",
       "1  2012-12-06 18:05:00.000000201         35.0 2012-12-06 18:05:00   \n",
       "2    2014-07-20 12:48:35.0000001         17.0 2014-07-20 12:48:35   \n",
       "3    2013-05-10 16:39:08.0000001          5.0 2013-05-10 16:39:08   \n",
       "4   2010-05-17 07:44:00.00000096         17.3 2010-05-17 07:44:00   \n",
       "\n",
       "   pickup_longitude  pickup_latitude  dropoff_longitude  dropoff_latitude  \\\n",
       "0          -73.9935          40.7614           -73.9797           40.7596   \n",
       "1          -73.9533          40.7878           -73.9444           40.7198   \n",
       "2          -73.9734          40.7439           -73.9540           40.7661   \n",
       "3          -73.9717          40.7634           -73.9620           40.7766   \n",
       "4          -73.9510          40.7856           -74.0102           40.7203   \n",
       "\n",
       "   passenger_count  longitude_difference  latitude_difference  \\\n",
       "0                5                0.0138               0.0018   \n",
       "1                2                0.0089               0.0680   \n",
       "2                1                0.0194               0.0222   \n",
       "3                1                0.0097               0.0132   \n",
       "4                1                0.0592               0.0653   \n",
       "\n",
       "   euclidean_distance  Hour  DayofWeek  Date  Month  Year  JFK  LGA  EWR  \n",
       "0              1.1794    14          4     4      6  2010    0    1    0  \n",
       "1              7.5983    18          3     6     12  2012    0    1    0  \n",
       "2              2.9604    12          6    20      7  2014    0    1    0  \n",
       "3              1.6798    16          4    10      5  2013    0    1    0  \n",
       "4              8.8085     7          0    17      5  2010    0    1    0  "
      ]
     },
     "execution_count": 46,
     "metadata": {},
     "output_type": "execute_result"
    }
   ],
   "source": [
    "train_df.head()"
   ]
  },
  {
   "cell_type": "code",
   "execution_count": 47,
   "metadata": {},
   "outputs": [
    {
     "name": "stdout",
     "output_type": "stream",
     "text": [
      "(0.013979550588358652, 7.2276255710529722e-48)\n"
     ]
    },
    {
     "data": {
      "image/png": "[encoded data removed]",
      "text/plain": [
       "<matplotlib.figure.Figure at 0x1bf5cea9160>"
      ]
     },
     "metadata": {},
     "output_type": "display_data"
    }
   ],
   "source": [
    "r4 = pearsonr(train_df['DayofWeek'], train_df['euclidean_distance'])\n",
    "print(r4)\n",
    "fig = plt.scatter(train_df['DayofWeek'], train_df['euclidean_distance'])\n",
    "plt.xlabel('Day of the Week')\n",
    "plt.ylabel('Euclidean Distance in km')\n",
    "plt.title('Scatter Plot')\n",
    "plt.savefig('scatter_d_e.png', dpi=300, bbox_inches='tight')\n",
    "plt.show()"
   ]
  },
  {
   "cell_type": "code",
   "execution_count": 48,
   "metadata": {},
   "outputs": [
    {
     "name": "stdout",
     "output_type": "stream",
     "text": [
      "(0.0110150427890108, 2.2762669625863405e-30)\n"
     ]
    },
    {
     "data": {
      "image/png": "[encoded data removed]",
      "text/plain": [
       "<matplotlib.figure.Figure at 0x1bf5d16c860>"
      ]
     },
     "metadata": {},
     "output_type": "display_data"
    }
   ],
   "source": [
    "r5 = pearsonr(train_df['Month'], train_df['euclidean_distance'])\n",
    "print(r5)\n",
    "fig = plt.scatter(train_df['Month'], train_df['euclidean_distance'])\n",
    "plt.xlabel('Month')\n",
    "plt.ylabel('Euclidean Distance in km')\n",
    "plt.title('Scatter Plot')\n",
    "plt.savefig('scatter_m_e.png', dpi=300, bbox_inches='tight')\n",
    "plt.show()"
   ]
  },
  {
   "cell_type": "code",
   "execution_count": 49,
   "metadata": {},
   "outputs": [
    {
     "name": "stdout",
     "output_type": "stream",
     "text": [
      "(0.011334821266965922, 4.646229085071953e-32)\n"
     ]
    },
    {
     "data": {
      "image/png": "[encoded data removed]",
      "text/plain": [
       "<matplotlib.figure.Figure at 0x1bf5d78c2b0>"
      ]
     },
     "metadata": {},
     "output_type": "display_data"
    }
   ],
   "source": [
    "r6 = pearsonr(train_df['passenger_count'], train_df['euclidean_distance'])\n",
    "print(r6)\n",
    "fig = plt.scatter(train_df['passenger_count'], train_df['euclidean_distance'])\n",
    "plt.xlabel('Passengers')\n",
    "plt.ylabel('Euclidean Distance in km')\n",
    "plt.title('Scatter Plot')\n",
    "plt.savefig('scatter_p_e.png', dpi=300, bbox_inches='tight')\n",
    "plt.show()"
   ]
  },
  {
   "cell_type": "markdown",
   "metadata": {},
   "source": [
    "### Histogram for time of the day to see at what time people travel the most"
   ]
  },
  {
   "cell_type": "code",
   "execution_count": 50,
   "metadata": {},
   "outputs": [
    {
     "data": {
      "image/png": "[encoded data removed]",
      "text/plain": [
       "<matplotlib.figure.Figure at 0x1bf5d76afd0>"
      ]
     },
     "metadata": {},
     "output_type": "display_data"
    },
    {
     "data": {
      "text/plain": [
       "count    1.081003e+06\n",
       "mean     1.351270e+01\n",
       "std      6.511843e+00\n",
       "min      0.000000e+00\n",
       "25%      9.000000e+00\n",
       "50%      1.400000e+01\n",
       "75%      1.900000e+01\n",
       "max      2.300000e+01\n",
       "Name: Hour, dtype: float64"
      ]
     },
     "execution_count": 50,
     "metadata": {},
     "output_type": "execute_result"
    }
   ],
   "source": [
    "train_df['Hour'].hist(bins=20, figsize=(8,4))\n",
    "plt.xlabel('Time of day')\n",
    "plt.title('Histogram of time of day in hours')\n",
    "plt.savefig('histogram_hour.png', dpi=300, bbox_inches='tight')\n",
    "plt.show()\n",
    "train_df['Hour'].describe()"
   ]
  },
  {
   "cell_type": "markdown",
   "metadata": {},
   "source": [
    "### Looking at the monthly fare amount stats for discovering any insights. There is not much variation in the (fare/distance) value for each month"
   ]
  },
  {
   "cell_type": "code",
   "execution_count": 51,
   "metadata": {},
   "outputs": [
    {
     "name": "stdout",
     "output_type": "stream",
     "text": [
      "Fare Amount stats for every month\n",
      "            mean        std\n",
      "Month                      \n",
      "1      10.737824   9.199586\n",
      "2      10.897854   9.107107\n",
      "3      11.214469   9.598458\n",
      "4      11.283940   9.442737\n",
      "5      11.565983   9.984568\n",
      "6      11.564703  10.011292\n",
      "7      11.053402   9.258301\n",
      "8      11.276484   9.614561\n",
      "9      11.649389   9.828190\n",
      "10     11.567957   9.652414\n",
      "11     11.554610   9.754402\n",
      "12     11.590434   9.800676\n",
      "Euclidean Distance stats for every month\n",
      "           mean       std\n",
      "Month                    \n",
      "1      3.171622  3.543331\n",
      "2      3.184846  3.445456\n",
      "3      3.313360  3.641305\n",
      "4      3.336896  3.837351\n",
      "5      3.392196  3.843050\n",
      "6      3.398098  3.957259\n",
      "7      3.360994  3.927255\n",
      "8      3.433227  3.853607\n",
      "9      3.354170  3.781881\n",
      "10     3.350112  3.820467\n",
      "11     3.337160  3.742640\n",
      "12     3.314705  3.720913\n"
     ]
    }
   ],
   "source": [
    "groupYear = train_df.groupby('Month')\n",
    "print(\"Fare Amount stats for every month\")\n",
    "print(groupYear['fare_amount'].agg([np.mean, np.std]))\n",
    "print(\"Euclidean Distance stats for every month\")\n",
    "print(groupYear['euclidean_distance'].agg([np.mean, np.std]))"
   ]
  },
  {
   "cell_type": "markdown",
   "metadata": {},
   "source": [
    "### Looking at the yearly fare amount stats for discovering any insights. As expected each year, (fare/distance) value kept increasing, basically every year the fare increased."
   ]
  },
  {
   "cell_type": "code",
   "execution_count": 52,
   "metadata": {},
   "outputs": [
    {
     "name": "stdout",
     "output_type": "stream",
     "text": [
      "Fare Amount stats for every year\n",
      "           mean        std\n",
      "Year                      \n",
      "2009  10.067120   8.129213\n",
      "2010  10.158196   8.352970\n",
      "2011  10.429700   8.697857\n",
      "2012  11.178447   9.432274\n",
      "2013  12.549409  10.507285\n",
      "2014  12.848891  10.896084\n",
      "2015  12.972759  11.382638\n",
      "Euclidean Distance stats for every year\n",
      "          mean       std\n",
      "Year                    \n",
      "2009  3.229155  4.187942\n",
      "2010  3.232940  3.782314\n",
      "2011  3.290146  3.505681\n",
      "2012  3.376505  3.620130\n",
      "2013  3.392727  3.672575\n",
      "2014  3.402513  3.718453\n",
      "2015  3.413814  3.860215\n"
     ]
    }
   ],
   "source": [
    "groupYear = train_df.groupby('Year')\n",
    "print(\"Fare Amount stats for every year\")\n",
    "print(groupYear['fare_amount'].agg([np.mean, np.std]))\n",
    "print(\"Euclidean Distance stats for every year\")\n",
    "print(groupYear['euclidean_distance'].agg([np.mean, np.std]))"
   ]
  },
  {
   "cell_type": "markdown",
   "metadata": {},
   "source": [
    "### Heatmap for seeing correlation between all the features"
   ]
  },
  {
   "cell_type": "code",
   "execution_count": 53,
   "metadata": {},
   "outputs": [
    {
     "data": {
      "image/png": "[encoded data removed]",
      "text/plain": [
       "<matplotlib.figure.Figure at 0x1bf5ca1f630>"
      ]
     },
     "metadata": {},
     "output_type": "display_data"
    }
   ],
   "source": [
    "plt.figure(figsize=(20,10))\n",
    "train_corr = train_df.drop(['key','pickup_datetime'],axis=1).corr()\n",
    "sns.heatmap(train_corr,annot=True,fmt='0.3f')\n",
    "plt.show()"
   ]
  },
  {
   "cell_type": "markdown",
   "metadata": {},
   "source": [
    "### Creating final features (X) and fare_amount (Y) for modelling"
   ]
  },
  {
   "cell_type": "code",
   "execution_count": 54,
   "metadata": {
    "collapsed": true
   },
   "outputs": [],
   "source": [
    "X = train_df.drop(['key','fare_amount','pickup_datetime','longitude_difference','latitude_difference'],axis=1)\n",
    "Y = train_df.loc[:,'fare_amount']"
   ]
  },
  {
   "cell_type": "markdown",
   "metadata": {},
   "source": [
    "### Standardizing the features by making mean = 0 and variance = 1"
   ]
  },
  {
   "cell_type": "code",
   "execution_count": 55,
   "metadata": {},
   "outputs": [
    {
     "data": {
      "text/plain": [
       "(1081003, 14)"
      ]
     },
     "execution_count": 55,
     "metadata": {},
     "output_type": "execute_result"
    }
   ],
   "source": [
    "X = StandardScaler().fit_transform(X)\n",
    "X.shape"
   ]
  },
  {
   "cell_type": "markdown",
   "metadata": {},
   "source": [
    "### Splitting X into training (80%) and validation sets (20%)"
   ]
  },
  {
   "cell_type": "code",
   "execution_count": 56,
   "metadata": {
    "collapsed": true
   },
   "outputs": [],
   "source": [
    "X_train, X_test, Y_train, Y_test = train_test_split(X, Y, test_size=0.2)"
   ]
  },
  {
   "cell_type": "markdown",
   "metadata": {},
   "source": [
    "### Linear Regression Model"
   ]
  },
  {
   "cell_type": "code",
   "execution_count": 57,
   "metadata": {},
   "outputs": [
    {
     "name": "stdout",
     "output_type": "stream",
     "text": [
      "Training data score\n",
      "0.711101626281\n",
      "Validation data score\n",
      "0.724325613414\n"
     ]
    }
   ],
   "source": [
    "lr = LinearRegression()\n",
    "lr.fit(X_train,Y_train)\n",
    "\n",
    "print(\"Training data score\")\n",
    "print(lr.score(X_train,Y_train))\n",
    "\n",
    "print(\"Validation data score\")\n",
    "print(lr.score(X_test,Y_test))"
   ]
  },
  {
   "cell_type": "markdown",
   "metadata": {},
   "source": [
    "### Coefficients of Linear Regression"
   ]
  },
  {
   "cell_type": "code",
   "execution_count": 58,
   "metadata": {},
   "outputs": [
    {
     "data": {
      "text/plain": [
       "array([ 0.41218807, -0.5990123 ,  0.65286071, -0.41482799,  0.05456024,\n",
       "        6.90520624,  0.07616394, -0.09277582,  0.00988896,  0.24581987,\n",
       "        0.99107821,  0.38984153, -0.10229442,  1.37062313])"
      ]
     },
     "execution_count": 58,
     "metadata": {},
     "output_type": "execute_result"
    }
   ],
   "source": [
    "lr.coef_"
   ]
  },
  {
   "cell_type": "markdown",
   "metadata": {},
   "source": [
    "### Calculating various evaluation metrics"
   ]
  },
  {
   "cell_type": "code",
   "execution_count": 59,
   "metadata": {},
   "outputs": [
    {
     "name": "stdout",
     "output_type": "stream",
     "text": [
      "RMSE 5.01966375806\n",
      "MAE 2.4326463711\n",
      "EVS 0.724328026881\n",
      "R2 Score 0.724325613414\n"
     ]
    }
   ],
   "source": [
    "Y_pred = lr.predict(X_test)\n",
    "\n",
    "rmse = np.sqrt(metrics.mean_squared_error(Y_test, Y_pred))\n",
    "mae = metrics.mean_absolute_error(Y_test, Y_pred)\n",
    "evs = metrics.explained_variance_score(Y_test, Y_pred)\n",
    "r2 = metrics.r2_score(Y_test, Y_pred)\n",
    "\n",
    "print(\"RMSE\", rmse)\n",
    "print(\"MAE\", mae)\n",
    "print(\"EVS\", evs)\n",
    "print(\"R2 Score\", r2)"
   ]
  },
  {
   "cell_type": "markdown",
   "metadata": {},
   "source": [
    "### Preparing the final test data by standardizing the features by making mean = 0 and variance = 1"
   ]
  },
  {
   "cell_type": "code",
   "execution_count": 60,
   "metadata": {},
   "outputs": [
    {
     "name": "stdout",
     "output_type": "stream",
     "text": [
      "   pickup_longitude  pickup_latitude  dropoff_longitude  dropoff_latitude  \\\n",
      "0          -73.9733          40.7638           -73.9814           40.7438   \n",
      "1          -73.9869          40.7194           -73.9989           40.7392   \n",
      "2          -73.9825          40.7513           -73.9797           40.7461   \n",
      "3          -73.9812          40.7678           -73.9904           40.7516   \n",
      "4          -73.9660          40.7898           -73.9886           40.7444   \n",
      "\n",
      "   passenger_count  euclidean_distance  Hour  DayofWeek  Date  Month  Year  \\\n",
      "0                1              2.3262    13          1    27      1  2015   \n",
      "1                1              2.4228    13          1    27      1  2015   \n",
      "2                1              0.6245    11          5     8     10  2011   \n",
      "3                1              1.9609    21          5     1     12  2012   \n",
      "4                1              5.3951    21          5     1     12  2012   \n",
      "\n",
      "   JFK  LGA  EWR  \n",
      "0    0    1    0  \n",
      "1    0    1    0  \n",
      "2    0    1    0  \n",
      "3    0    1    0  \n",
      "4    0    1    0  \n"
     ]
    }
   ],
   "source": [
    "real_test = test_df.drop(['key', 'pickup_datetime','longitude_difference','latitude_difference'], axis=1)\n",
    "print(real_test.head())\n",
    "real_test = StandardScaler().fit_transform(real_test)"
   ]
  },
  {
   "cell_type": "markdown",
   "metadata": {},
   "source": [
    "### Making predictions on test data (linear regression)"
   ]
  },
  {
   "cell_type": "code",
   "execution_count": 61,
   "metadata": {
    "collapsed": true
   },
   "outputs": [],
   "source": [
    "final_pred = lr.predict(real_test)\n",
    "final_pred = np.round(final_pred, decimals=2)"
   ]
  },
  {
   "cell_type": "code",
   "execution_count": 62,
   "metadata": {},
   "outputs": [
    {
     "name": "stdout",
     "output_type": "stream",
     "text": [
      "[ 10.39  10.98   5.8  ...,  47.17  21.17   7.92]\n"
     ]
    }
   ],
   "source": [
    "print(final_pred)"
   ]
  },
  {
   "cell_type": "markdown",
   "metadata": {},
   "source": [
    "### Writing predictions to submission file"
   ]
  },
  {
   "cell_type": "code",
   "execution_count": 63,
   "metadata": {
    "collapsed": true
   },
   "outputs": [],
   "source": [
    "linear_regression_predictions = pd.DataFrame({\"key\": test_df['key'],\"fare_amount\": final_pred},columns = ['key','fare_amount'])"
   ]
  },
  {
   "cell_type": "code",
   "execution_count": 64,
   "metadata": {
    "collapsed": true
   },
   "outputs": [],
   "source": [
    "linear_regression_predictions.to_csv('linear_regression_submission_5.csv',index=False)"
   ]
  },
  {
   "cell_type": "markdown",
   "metadata": {},
   "source": [
    "### Random Forest Regression Model"
   ]
  },
  {
   "cell_type": "code",
   "execution_count": 65,
   "metadata": {},
   "outputs": [
    {
     "name": "stdout",
     "output_type": "stream",
     "text": [
      "Training data score\n",
      "0.968763928693\n",
      "Validation data score\n",
      "0.834779759798\n"
     ]
    }
   ],
   "source": [
    "rf = RandomForestRegressor()\n",
    "rf.fit(X_train, Y_train)\n",
    "\n",
    "print(\"Training data score\")\n",
    "print(rf.score(X_train,Y_train))\n",
    "\n",
    "print(\"Validation data score\")\n",
    "print(rf.score(X_test,Y_test))"
   ]
  },
  {
   "cell_type": "markdown",
   "metadata": {},
   "source": [
    "### Printing the importance of each feature"
   ]
  },
  {
   "cell_type": "code",
   "execution_count": 66,
   "metadata": {},
   "outputs": [
    {
     "name": "stdout",
     "output_type": "stream",
     "text": [
      "[  3.20028464e-02   2.50855308e-02   5.46289898e-02   3.17929305e-02\n",
      "   3.88579235e-03   7.75268456e-01   1.60785356e-02   8.01478786e-03\n",
      "   1.42090275e-02   1.13359894e-02   2.62277130e-02   6.02704985e-04\n",
      "   4.92837173e-04   3.73859169e-04]\n"
     ]
    }
   ],
   "source": [
    "print(rf.feature_importances_)"
   ]
  },
  {
   "cell_type": "markdown",
   "metadata": {},
   "source": [
    "### Calculating various evaluation metrics"
   ]
  },
  {
   "cell_type": "code",
   "execution_count": 67,
   "metadata": {},
   "outputs": [
    {
     "name": "stdout",
     "output_type": "stream",
     "text": [
      "RMSE 3.88604694809\n",
      "MAE 1.82340934131\n",
      "EVS 0.834868539773\n",
      "R2 Score 0.834779759798\n"
     ]
    }
   ],
   "source": [
    "Y_pred = rf.predict(X_test)\n",
    "rmse = np.sqrt(metrics.mean_squared_error(Y_test, Y_pred))\n",
    "mae = metrics.mean_absolute_error(Y_test, Y_pred)\n",
    "evs = metrics.explained_variance_score(Y_test, Y_pred)\n",
    "r2 = metrics.r2_score(Y_test, Y_pred)\n",
    "\n",
    "print(\"RMSE\", rmse)\n",
    "print(\"MAE\", mae)\n",
    "print(\"EVS\", evs)\n",
    "print(\"R2 Score\", r2)"
   ]
  },
  {
   "cell_type": "markdown",
   "metadata": {},
   "source": [
    "### Making predictions on test data (random forest)"
   ]
  },
  {
   "cell_type": "code",
   "execution_count": 68,
   "metadata": {},
   "outputs": [
    {
     "name": "stdout",
     "output_type": "stream",
     "text": [
      "[  9.3   10.65   4.58 ...,  55.19  20.6    6.85]\n"
     ]
    }
   ],
   "source": [
    "final_pred = rf.predict(real_test)\n",
    "final_pred = np.round(final_pred, decimals=2)\n",
    "print(final_pred)"
   ]
  },
  {
   "cell_type": "markdown",
   "metadata": {},
   "source": [
    "### Writing predictions to submission file"
   ]
  },
  {
   "cell_type": "code",
   "execution_count": 69,
   "metadata": {
    "collapsed": true
   },
   "outputs": [],
   "source": [
    "random_forest_predictions = pd.DataFrame({\"key\": test_df['key'],\"fare_amount\": final_pred},columns = ['key','fare_amount'])"
   ]
  },
  {
   "cell_type": "code",
   "execution_count": 70,
   "metadata": {
    "collapsed": true
   },
   "outputs": [],
   "source": [
    "random_forest_predictions.to_csv('random_forest_submission_4.csv',index=False)"
   ]
  },
  {
   "cell_type": "markdown",
   "metadata": {},
   "source": [
    "### Parameters for xgboost model"
   ]
  },
  {
   "cell_type": "code",
   "execution_count": 71,
   "metadata": {
    "collapsed": true
   },
   "outputs": [],
   "source": [
    "params = {\n",
    "    'max_depth': 6,\n",
    "    'gamma' :0,\n",
    "    'eta':.03, \n",
    "    'subsample': 1,\n",
    "    'colsample_bytree': 0.9, \n",
    "    'objective':'reg:linear',\n",
    "    'eval_metric':'rmse',\n",
    "    'silent': 0\n",
    "}"
   ]
  },
  {
   "cell_type": "markdown",
   "metadata": {},
   "source": [
    "### xgboost model training"
   ]
  },
  {
   "cell_type": "code",
   "execution_count": 72,
   "metadata": {},
   "outputs": [
    {
     "name": "stdout",
     "output_type": "stream",
     "text": [
      "[0]\ttest-rmse:14.0421\n",
      "Will train until test-rmse hasn't improved in 5 rounds.\n",
      "[1]\ttest-rmse:13.6588\n",
      "[2]\ttest-rmse:13.2883\n",
      "[3]\ttest-rmse:12.9294\n",
      "[4]\ttest-rmse:12.5827\n",
      "[5]\ttest-rmse:12.2474\n",
      "[6]\ttest-rmse:11.9233\n",
      "[7]\ttest-rmse:11.6114\n",
      "[8]\ttest-rmse:11.3096\n",
      "[9]\ttest-rmse:11.0373\n",
      "[10]\ttest-rmse:10.7533\n",
      "[11]\ttest-rmse:10.479\n",
      "[12]\ttest-rmse:10.2142\n",
      "[13]\ttest-rmse:9.95885\n",
      "[14]\ttest-rmse:9.71199\n",
      "[15]\ttest-rmse:9.47408\n",
      "[16]\ttest-rmse:9.24504\n",
      "[17]\ttest-rmse:9.02365\n",
      "[18]\ttest-rmse:8.80981\n",
      "[19]\ttest-rmse:8.60323\n",
      "[20]\ttest-rmse:8.40419\n",
      "[21]\ttest-rmse:8.21302\n",
      "[22]\ttest-rmse:8.02829\n",
      "[23]\ttest-rmse:7.85025\n",
      "[24]\ttest-rmse:7.67946\n",
      "[25]\ttest-rmse:7.51501\n",
      "[26]\ttest-rmse:7.35674\n",
      "[27]\ttest-rmse:7.20433\n",
      "[28]\ttest-rmse:7.06606\n",
      "[29]\ttest-rmse:6.92447\n",
      "[30]\ttest-rmse:6.78853\n",
      "[31]\ttest-rmse:6.65764\n",
      "[32]\ttest-rmse:6.53228\n",
      "[33]\ttest-rmse:6.41162\n",
      "[34]\ttest-rmse:6.29575\n",
      "[35]\ttest-rmse:6.18461\n",
      "[36]\ttest-rmse:6.07813\n",
      "[37]\ttest-rmse:5.97633\n",
      "[38]\ttest-rmse:5.87911\n",
      "[39]\ttest-rmse:5.7912\n",
      "[40]\ttest-rmse:5.70143\n",
      "[41]\ttest-rmse:5.61546\n",
      "[42]\ttest-rmse:5.5333\n",
      "[43]\ttest-rmse:5.45679\n",
      "[44]\ttest-rmse:5.38161\n",
      "[45]\ttest-rmse:5.30987\n",
      "[46]\ttest-rmse:5.2408\n",
      "[47]\ttest-rmse:5.17504\n",
      "[48]\ttest-rmse:5.11221\n",
      "[49]\ttest-rmse:5.05135\n",
      "[50]\ttest-rmse:4.99308\n",
      "[51]\ttest-rmse:4.93813\n",
      "[52]\ttest-rmse:4.88514\n",
      "[53]\ttest-rmse:4.83855\n",
      "[54]\ttest-rmse:4.79068\n",
      "[55]\ttest-rmse:4.7451\n",
      "[56]\ttest-rmse:4.70216\n",
      "[57]\ttest-rmse:4.66115\n",
      "[58]\ttest-rmse:4.62227\n",
      "[59]\ttest-rmse:4.5854\n",
      "[60]\ttest-rmse:4.5539\n",
      "[61]\ttest-rmse:4.51966\n",
      "[62]\ttest-rmse:4.48776\n",
      "[63]\ttest-rmse:4.4589\n",
      "[64]\ttest-rmse:4.43148\n",
      "[65]\ttest-rmse:4.40233\n",
      "[66]\ttest-rmse:4.37605\n",
      "[67]\ttest-rmse:4.35023\n",
      "[68]\ttest-rmse:4.32651\n",
      "[69]\ttest-rmse:4.30365\n",
      "[70]\ttest-rmse:4.28164\n",
      "[71]\ttest-rmse:4.26103\n",
      "[72]\ttest-rmse:4.24175\n",
      "[73]\ttest-rmse:4.22252\n",
      "[74]\ttest-rmse:4.20436\n",
      "[75]\ttest-rmse:4.18654\n",
      "[76]\ttest-rmse:4.17026\n",
      "[77]\ttest-rmse:4.15472\n",
      "[78]\ttest-rmse:4.14018\n",
      "[79]\ttest-rmse:4.12615\n",
      "[80]\ttest-rmse:4.11352\n",
      "[81]\ttest-rmse:4.10037\n",
      "[82]\ttest-rmse:4.08722\n",
      "[83]\ttest-rmse:4.07572\n",
      "[84]\ttest-rmse:4.06524\n",
      "[85]\ttest-rmse:4.05473\n",
      "[86]\ttest-rmse:4.04425\n",
      "[87]\ttest-rmse:4.03488\n",
      "[88]\ttest-rmse:4.0255\n",
      "[89]\ttest-rmse:4.01673\n",
      "[90]\ttest-rmse:4.00806\n",
      "[91]\ttest-rmse:4.00028\n",
      "[92]\ttest-rmse:3.99272\n",
      "[93]\ttest-rmse:3.985\n",
      "[94]\ttest-rmse:3.97792\n",
      "[95]\ttest-rmse:3.97067\n",
      "[96]\ttest-rmse:3.96482\n",
      "[97]\ttest-rmse:3.95872\n",
      "[98]\ttest-rmse:3.95209\n",
      "[99]\ttest-rmse:3.94618\n",
      "[100]\ttest-rmse:3.9405\n",
      "[101]\ttest-rmse:3.9356\n",
      "[102]\ttest-rmse:3.93068\n",
      "[103]\ttest-rmse:3.9266\n",
      "[104]\ttest-rmse:3.92139\n",
      "[105]\ttest-rmse:3.91689\n",
      "[106]\ttest-rmse:3.91297\n",
      "[107]\ttest-rmse:3.90956\n",
      "[108]\ttest-rmse:3.90559\n",
      "[109]\ttest-rmse:3.90222\n",
      "[110]\ttest-rmse:3.8988\n",
      "[111]\ttest-rmse:3.89572\n",
      "[112]\ttest-rmse:3.89315\n",
      "[113]\ttest-rmse:3.88921\n",
      "[114]\ttest-rmse:3.88616\n",
      "[115]\ttest-rmse:3.88318\n",
      "[116]\ttest-rmse:3.88059\n",
      "[117]\ttest-rmse:3.87827\n",
      "[118]\ttest-rmse:3.87617\n",
      "[119]\ttest-rmse:3.87353\n",
      "[120]\ttest-rmse:3.87122\n",
      "[121]\ttest-rmse:3.86905\n",
      "[122]\ttest-rmse:3.86694\n",
      "[123]\ttest-rmse:3.86344\n",
      "[124]\ttest-rmse:3.85987\n",
      "[125]\ttest-rmse:3.85791\n",
      "[126]\ttest-rmse:3.85589\n",
      "[127]\ttest-rmse:3.85385\n",
      "[128]\ttest-rmse:3.85218\n",
      "[129]\ttest-rmse:3.85012\n",
      "[130]\ttest-rmse:3.84876\n",
      "[131]\ttest-rmse:3.84684\n",
      "[132]\ttest-rmse:3.84456\n",
      "[133]\ttest-rmse:3.84178\n",
      "[134]\ttest-rmse:3.84007\n",
      "[135]\ttest-rmse:3.83829\n",
      "[136]\ttest-rmse:3.83566\n",
      "[137]\ttest-rmse:3.83453\n",
      "[138]\ttest-rmse:3.83333\n",
      "[139]\ttest-rmse:3.83138\n",
      "[140]\ttest-rmse:3.82911\n",
      "[141]\ttest-rmse:3.82772\n",
      "[142]\ttest-rmse:3.82611\n",
      "[143]\ttest-rmse:3.82423\n",
      "[144]\ttest-rmse:3.82255\n",
      "[145]\ttest-rmse:3.82091\n",
      "[146]\ttest-rmse:3.81915\n",
      "[147]\ttest-rmse:3.81743\n",
      "[148]\ttest-rmse:3.81567\n",
      "[149]\ttest-rmse:3.81483\n",
      "[150]\ttest-rmse:3.81363\n",
      "[151]\ttest-rmse:3.81174\n",
      "[152]\ttest-rmse:3.81014\n",
      "[153]\ttest-rmse:3.80912\n",
      "[154]\ttest-rmse:3.80835\n",
      "[155]\ttest-rmse:3.80724\n",
      "[156]\ttest-rmse:3.80626\n",
      "[157]\ttest-rmse:3.80547\n",
      "[158]\ttest-rmse:3.80359\n",
      "[159]\ttest-rmse:3.80267\n",
      "[160]\ttest-rmse:3.80184\n",
      "[161]\ttest-rmse:3.80124\n",
      "[162]\ttest-rmse:3.80023\n",
      "[163]\ttest-rmse:3.79902\n",
      "[164]\ttest-rmse:3.798\n",
      "[165]\ttest-rmse:3.79661\n",
      "[166]\ttest-rmse:3.79596\n",
      "[167]\ttest-rmse:3.79516\n",
      "[168]\ttest-rmse:3.7946\n",
      "[169]\ttest-rmse:3.79362\n",
      "[170]\ttest-rmse:3.79304\n",
      "[171]\ttest-rmse:3.79234\n",
      "[172]\ttest-rmse:3.79163\n",
      "[173]\ttest-rmse:3.7908\n",
      "[174]\ttest-rmse:3.79006\n",
      "[175]\ttest-rmse:3.78954\n",
      "[176]\ttest-rmse:3.78882\n",
      "[177]\ttest-rmse:3.78807\n",
      "[178]\ttest-rmse:3.78693\n",
      "[179]\ttest-rmse:3.78593\n",
      "[180]\ttest-rmse:3.78517\n",
      "[181]\ttest-rmse:3.78461\n",
      "[182]\ttest-rmse:3.78376\n",
      "[183]\ttest-rmse:3.78271\n",
      "[184]\ttest-rmse:3.78227\n",
      "[185]\ttest-rmse:3.78201\n",
      "[186]\ttest-rmse:3.78142\n",
      "[187]\ttest-rmse:3.78043\n",
      "[188]\ttest-rmse:3.77946\n",
      "[189]\ttest-rmse:3.77893\n",
      "[190]\ttest-rmse:3.77844\n",
      "[191]\ttest-rmse:3.7783\n",
      "[192]\ttest-rmse:3.77807\n",
      "[193]\ttest-rmse:3.77704\n",
      "[194]\ttest-rmse:3.77677\n",
      "[195]\ttest-rmse:3.77588\n",
      "[196]\ttest-rmse:3.77518\n",
      "[197]\ttest-rmse:3.77484\n",
      "[198]\ttest-rmse:3.77448\n",
      "[199]\ttest-rmse:3.7738\n",
      "[200]\ttest-rmse:3.77228\n",
      "[201]\ttest-rmse:3.77213\n",
      "[202]\ttest-rmse:3.77175\n",
      "[203]\ttest-rmse:3.77112\n",
      "[204]\ttest-rmse:3.77067\n",
      "[205]\ttest-rmse:3.76913\n",
      "[206]\ttest-rmse:3.76878\n",
      "[207]\ttest-rmse:3.76836\n",
      "[208]\ttest-rmse:3.76827\n",
      "[209]\ttest-rmse:3.76685\n",
      "[210]\ttest-rmse:3.76605\n",
      "[211]\ttest-rmse:3.76555\n",
      "[212]\ttest-rmse:3.76414\n",
      "[213]\ttest-rmse:3.76369\n",
      "[214]\ttest-rmse:3.76355\n",
      "[215]\ttest-rmse:3.76295\n",
      "[216]\ttest-rmse:3.76187\n",
      "[217]\ttest-rmse:3.7612\n",
      "[218]\ttest-rmse:3.76095\n",
      "[219]\ttest-rmse:3.76077\n",
      "[220]\ttest-rmse:3.76034\n",
      "[221]\ttest-rmse:3.76006\n",
      "[222]\ttest-rmse:3.76012\n",
      "[223]\ttest-rmse:3.75994\n",
      "[224]\ttest-rmse:3.75916\n",
      "[225]\ttest-rmse:3.75906\n",
      "[226]\ttest-rmse:3.75877\n",
      "[227]\ttest-rmse:3.75829\n",
      "[228]\ttest-rmse:3.75784\n",
      "[229]\ttest-rmse:3.75749\n",
      "[230]\ttest-rmse:3.75711\n",
      "[231]\ttest-rmse:3.75706\n",
      "[232]\ttest-rmse:3.75659\n",
      "[233]\ttest-rmse:3.75624\n",
      "[234]\ttest-rmse:3.75609\n",
      "[235]\ttest-rmse:3.75562\n",
      "[236]\ttest-rmse:3.75483\n",
      "[237]\ttest-rmse:3.75445\n",
      "[238]\ttest-rmse:3.75442\n",
      "[239]\ttest-rmse:3.75377\n",
      "[240]\ttest-rmse:3.75363\n",
      "[241]\ttest-rmse:3.75278\n",
      "[242]\ttest-rmse:3.75266\n",
      "[243]\ttest-rmse:3.75281\n",
      "[244]\ttest-rmse:3.7527\n",
      "[245]\ttest-rmse:3.75228\n",
      "[246]\ttest-rmse:3.75179\n",
      "[247]\ttest-rmse:3.75125\n",
      "[248]\ttest-rmse:3.75109\n",
      "[249]\ttest-rmse:3.75076\n",
      "[250]\ttest-rmse:3.74944\n",
      "[251]\ttest-rmse:3.74907\n",
      "[252]\ttest-rmse:3.7489\n",
      "[253]\ttest-rmse:3.74875\n",
      "[254]\ttest-rmse:3.74888\n",
      "[255]\ttest-rmse:3.74845\n",
      "[256]\ttest-rmse:3.74788\n",
      "[257]\ttest-rmse:3.74623\n",
      "[258]\ttest-rmse:3.74622\n",
      "[259]\ttest-rmse:3.74629\n",
      "[260]\ttest-rmse:3.74604\n",
      "[261]\ttest-rmse:3.74472\n",
      "[262]\ttest-rmse:3.74401\n",
      "[263]\ttest-rmse:3.74401\n",
      "[264]\ttest-rmse:3.74392\n",
      "[265]\ttest-rmse:3.74355\n",
      "[266]\ttest-rmse:3.74251\n",
      "[267]\ttest-rmse:3.74219\n",
      "[268]\ttest-rmse:3.74201\n",
      "[269]\ttest-rmse:3.74105\n",
      "[270]\ttest-rmse:3.74106\n",
      "[271]\ttest-rmse:3.74094\n",
      "[272]\ttest-rmse:3.74081\n",
      "[273]\ttest-rmse:3.74069\n",
      "[274]\ttest-rmse:3.73975\n",
      "[275]\ttest-rmse:3.73996\n",
      "[276]\ttest-rmse:3.73991\n",
      "[277]\ttest-rmse:3.73964\n",
      "[278]\ttest-rmse:3.7388\n",
      "[279]\ttest-rmse:3.73837\n",
      "[280]\ttest-rmse:3.73829\n",
      "[281]\ttest-rmse:3.73792\n",
      "[282]\ttest-rmse:3.73762\n",
      "[283]\ttest-rmse:3.73745\n",
      "[284]\ttest-rmse:3.73716\n",
      "[285]\ttest-rmse:3.73692\n",
      "[286]\ttest-rmse:3.73514\n",
      "[287]\ttest-rmse:3.73504\n",
      "[288]\ttest-rmse:3.73495\n",
      "[289]\ttest-rmse:3.73457\n",
      "[290]\ttest-rmse:3.73458\n",
      "[291]\ttest-rmse:3.73364\n",
      "[292]\ttest-rmse:3.73342\n",
      "[293]\ttest-rmse:3.73288\n",
      "[294]\ttest-rmse:3.73255\n",
      "[295]\ttest-rmse:3.73221\n",
      "[296]\ttest-rmse:3.7319\n",
      "[297]\ttest-rmse:3.73189\n",
      "[298]\ttest-rmse:3.73134\n",
      "[299]\ttest-rmse:3.73099\n",
      "[300]\ttest-rmse:3.73063\n",
      "[301]\ttest-rmse:3.72968\n",
      "[302]\ttest-rmse:3.7295\n",
      "[303]\ttest-rmse:3.72935\n",
      "[304]\ttest-rmse:3.72914\n",
      "[305]\ttest-rmse:3.72901\n",
      "[306]\ttest-rmse:3.72867\n",
      "[307]\ttest-rmse:3.72845\n",
      "[308]\ttest-rmse:3.7269\n",
      "[309]\ttest-rmse:3.7266\n",
      "[310]\ttest-rmse:3.72654\n",
      "[311]\ttest-rmse:3.72591\n",
      "[312]\ttest-rmse:3.72557\n",
      "[313]\ttest-rmse:3.72542\n",
      "[314]\ttest-rmse:3.7254\n",
      "[315]\ttest-rmse:3.72518\n",
      "[316]\ttest-rmse:3.72501\n",
      "[317]\ttest-rmse:3.72373\n",
      "[318]\ttest-rmse:3.72342\n",
      "[319]\ttest-rmse:3.72331\n",
      "[320]\ttest-rmse:3.72295\n",
      "[321]\ttest-rmse:3.72267\n",
      "[322]\ttest-rmse:3.72248\n",
      "[323]\ttest-rmse:3.72198\n",
      "[324]\ttest-rmse:3.72162\n",
      "[325]\ttest-rmse:3.72148\n",
      "[326]\ttest-rmse:3.7213\n",
      "[327]\ttest-rmse:3.7211\n",
      "[328]\ttest-rmse:3.72014\n",
      "[329]\ttest-rmse:3.72011\n",
      "[330]\ttest-rmse:3.71997\n",
      "[331]\ttest-rmse:3.72004\n",
      "[332]\ttest-rmse:3.71993\n",
      "[333]\ttest-rmse:3.71954\n",
      "[334]\ttest-rmse:3.71888\n",
      "[335]\ttest-rmse:3.71834\n",
      "[336]\ttest-rmse:3.71828\n",
      "[337]\ttest-rmse:3.71801\n",
      "[338]\ttest-rmse:3.71714\n",
      "[339]\ttest-rmse:3.71653\n",
      "[340]\ttest-rmse:3.71656\n",
      "[341]\ttest-rmse:3.71639\n",
      "[342]\ttest-rmse:3.71631\n",
      "[343]\ttest-rmse:3.71648\n",
      "[344]\ttest-rmse:3.7162\n"
     ]
    },
    {
     "name": "stdout",
     "output_type": "stream",
     "text": [
      "[345]\ttest-rmse:3.71523\n",
      "[346]\ttest-rmse:3.71485\n",
      "[347]\ttest-rmse:3.71401\n",
      "[348]\ttest-rmse:3.71368\n",
      "[349]\ttest-rmse:3.71343\n",
      "[350]\ttest-rmse:3.71339\n",
      "[351]\ttest-rmse:3.71298\n",
      "[352]\ttest-rmse:3.71272\n",
      "[353]\ttest-rmse:3.71227\n",
      "[354]\ttest-rmse:3.71168\n",
      "[355]\ttest-rmse:3.71159\n",
      "[356]\ttest-rmse:3.71084\n",
      "[357]\ttest-rmse:3.71079\n",
      "[358]\ttest-rmse:3.71062\n",
      "[359]\ttest-rmse:3.71031\n",
      "[360]\ttest-rmse:3.71018\n",
      "[361]\ttest-rmse:3.70986\n",
      "[362]\ttest-rmse:3.71002\n",
      "[363]\ttest-rmse:3.70972\n",
      "[364]\ttest-rmse:3.7094\n",
      "[365]\ttest-rmse:3.70935\n",
      "[366]\ttest-rmse:3.70835\n",
      "[367]\ttest-rmse:3.70795\n",
      "[368]\ttest-rmse:3.7077\n",
      "[369]\ttest-rmse:3.70778\n",
      "[370]\ttest-rmse:3.70758\n",
      "[371]\ttest-rmse:3.70752\n",
      "[372]\ttest-rmse:3.70734\n",
      "[373]\ttest-rmse:3.7062\n",
      "[374]\ttest-rmse:3.70615\n",
      "[375]\ttest-rmse:3.70492\n",
      "[376]\ttest-rmse:3.70474\n",
      "[377]\ttest-rmse:3.70461\n",
      "[378]\ttest-rmse:3.70447\n",
      "[379]\ttest-rmse:3.7042\n",
      "[380]\ttest-rmse:3.70415\n",
      "[381]\ttest-rmse:3.70287\n",
      "[382]\ttest-rmse:3.70291\n",
      "[383]\ttest-rmse:3.70299\n",
      "[384]\ttest-rmse:3.70289\n",
      "[385]\ttest-rmse:3.7019\n",
      "[386]\ttest-rmse:3.70154\n",
      "[387]\ttest-rmse:3.7006\n",
      "[388]\ttest-rmse:3.70046\n",
      "[389]\ttest-rmse:3.70007\n",
      "[390]\ttest-rmse:3.69982\n",
      "[391]\ttest-rmse:3.69963\n",
      "[392]\ttest-rmse:3.69976\n",
      "[393]\ttest-rmse:3.69976\n",
      "[394]\ttest-rmse:3.69963\n",
      "[395]\ttest-rmse:3.69925\n",
      "[396]\ttest-rmse:3.69908\n",
      "[397]\ttest-rmse:3.69909\n",
      "[398]\ttest-rmse:3.6993\n",
      "[399]\ttest-rmse:3.69926\n",
      "[400]\ttest-rmse:3.69924\n",
      "[401]\ttest-rmse:3.69868\n",
      "[402]\ttest-rmse:3.69844\n",
      "[403]\ttest-rmse:3.69809\n",
      "[404]\ttest-rmse:3.69796\n",
      "[405]\ttest-rmse:3.69787\n",
      "[406]\ttest-rmse:3.69781\n",
      "[407]\ttest-rmse:3.69735\n",
      "[408]\ttest-rmse:3.69719\n",
      "[409]\ttest-rmse:3.69681\n",
      "[410]\ttest-rmse:3.6965\n",
      "[411]\ttest-rmse:3.69617\n",
      "[412]\ttest-rmse:3.69599\n",
      "[413]\ttest-rmse:3.69565\n",
      "[414]\ttest-rmse:3.69544\n",
      "[415]\ttest-rmse:3.69538\n",
      "[416]\ttest-rmse:3.69433\n",
      "[417]\ttest-rmse:3.69432\n",
      "[418]\ttest-rmse:3.69412\n",
      "[419]\ttest-rmse:3.69386\n",
      "[420]\ttest-rmse:3.69394\n",
      "[421]\ttest-rmse:3.69365\n",
      "[422]\ttest-rmse:3.69343\n",
      "[423]\ttest-rmse:3.69356\n",
      "[424]\ttest-rmse:3.69259\n",
      "[425]\ttest-rmse:3.69243\n",
      "[426]\ttest-rmse:3.69235\n",
      "[427]\ttest-rmse:3.69223\n",
      "[428]\ttest-rmse:3.69222\n",
      "[429]\ttest-rmse:3.6923\n",
      "[430]\ttest-rmse:3.69224\n",
      "[431]\ttest-rmse:3.692\n",
      "[432]\ttest-rmse:3.69132\n",
      "[433]\ttest-rmse:3.69111\n",
      "[434]\ttest-rmse:3.6907\n",
      "[435]\ttest-rmse:3.69052\n",
      "[436]\ttest-rmse:3.69016\n",
      "[437]\ttest-rmse:3.69002\n",
      "[438]\ttest-rmse:3.6899\n",
      "[439]\ttest-rmse:3.68985\n",
      "[440]\ttest-rmse:3.68977\n",
      "[441]\ttest-rmse:3.68924\n",
      "[442]\ttest-rmse:3.68926\n",
      "[443]\ttest-rmse:3.68908\n",
      "[444]\ttest-rmse:3.68899\n",
      "[445]\ttest-rmse:3.68887\n",
      "[446]\ttest-rmse:3.6888\n",
      "[447]\ttest-rmse:3.68824\n",
      "[448]\ttest-rmse:3.68788\n",
      "[449]\ttest-rmse:3.68758\n",
      "[450]\ttest-rmse:3.68783\n",
      "[451]\ttest-rmse:3.68782\n",
      "[452]\ttest-rmse:3.68771\n",
      "[453]\ttest-rmse:3.68731\n",
      "[454]\ttest-rmse:3.68722\n",
      "[455]\ttest-rmse:3.68704\n",
      "[456]\ttest-rmse:3.68644\n",
      "[457]\ttest-rmse:3.68622\n",
      "[458]\ttest-rmse:3.68616\n",
      "[459]\ttest-rmse:3.68605\n",
      "[460]\ttest-rmse:3.68636\n",
      "[461]\ttest-rmse:3.68621\n",
      "[462]\ttest-rmse:3.6861\n",
      "[463]\ttest-rmse:3.68603\n",
      "[464]\ttest-rmse:3.68598\n",
      "[465]\ttest-rmse:3.68583\n",
      "[466]\ttest-rmse:3.68574\n",
      "[467]\ttest-rmse:3.68563\n",
      "[468]\ttest-rmse:3.68533\n",
      "[469]\ttest-rmse:3.68518\n",
      "[470]\ttest-rmse:3.6848\n",
      "[471]\ttest-rmse:3.68474\n",
      "[472]\ttest-rmse:3.68467\n",
      "[473]\ttest-rmse:3.68475\n",
      "[474]\ttest-rmse:3.68482\n",
      "[475]\ttest-rmse:3.68477\n",
      "[476]\ttest-rmse:3.6847\n",
      "[477]\ttest-rmse:3.68466\n",
      "[478]\ttest-rmse:3.68453\n",
      "[479]\ttest-rmse:3.68431\n",
      "[480]\ttest-rmse:3.6839\n",
      "[481]\ttest-rmse:3.68388\n",
      "[482]\ttest-rmse:3.68396\n",
      "[483]\ttest-rmse:3.68363\n",
      "[484]\ttest-rmse:3.6836\n",
      "[485]\ttest-rmse:3.68339\n",
      "[486]\ttest-rmse:3.68333\n",
      "[487]\ttest-rmse:3.683\n",
      "[488]\ttest-rmse:3.68288\n",
      "[489]\ttest-rmse:3.68288\n",
      "[490]\ttest-rmse:3.68279\n",
      "[491]\ttest-rmse:3.68287\n",
      "[492]\ttest-rmse:3.68282\n",
      "[493]\ttest-rmse:3.68281\n",
      "[494]\ttest-rmse:3.68255\n",
      "[495]\ttest-rmse:3.68282\n",
      "[496]\ttest-rmse:3.68247\n",
      "[497]\ttest-rmse:3.68203\n",
      "[498]\ttest-rmse:3.68205\n",
      "[499]\ttest-rmse:3.68184\n",
      "[500]\ttest-rmse:3.6817\n",
      "[501]\ttest-rmse:3.6816\n",
      "[502]\ttest-rmse:3.68149\n",
      "[503]\ttest-rmse:3.68132\n",
      "[504]\ttest-rmse:3.681\n",
      "[505]\ttest-rmse:3.68093\n",
      "[506]\ttest-rmse:3.68075\n",
      "[507]\ttest-rmse:3.68072\n",
      "[508]\ttest-rmse:3.68063\n",
      "[509]\ttest-rmse:3.68087\n",
      "[510]\ttest-rmse:3.68085\n",
      "[511]\ttest-rmse:3.6808\n",
      "[512]\ttest-rmse:3.68079\n",
      "[513]\ttest-rmse:3.67975\n",
      "[514]\ttest-rmse:3.67964\n",
      "[515]\ttest-rmse:3.6795\n",
      "[516]\ttest-rmse:3.67954\n",
      "[517]\ttest-rmse:3.67961\n",
      "[518]\ttest-rmse:3.67944\n",
      "[519]\ttest-rmse:3.67917\n",
      "[520]\ttest-rmse:3.67904\n",
      "[521]\ttest-rmse:3.67903\n",
      "[522]\ttest-rmse:3.67883\n",
      "[523]\ttest-rmse:3.67863\n",
      "[524]\ttest-rmse:3.67769\n",
      "[525]\ttest-rmse:3.67716\n",
      "[526]\ttest-rmse:3.67718\n",
      "[527]\ttest-rmse:3.67691\n",
      "[528]\ttest-rmse:3.67678\n",
      "[529]\ttest-rmse:3.6765\n",
      "[530]\ttest-rmse:3.67604\n",
      "[531]\ttest-rmse:3.67576\n",
      "[532]\ttest-rmse:3.67569\n",
      "[533]\ttest-rmse:3.67557\n",
      "[534]\ttest-rmse:3.67536\n",
      "[535]\ttest-rmse:3.67537\n",
      "[536]\ttest-rmse:3.67534\n",
      "[537]\ttest-rmse:3.67446\n",
      "[538]\ttest-rmse:3.67449\n",
      "[539]\ttest-rmse:3.67407\n",
      "[540]\ttest-rmse:3.67392\n",
      "[541]\ttest-rmse:3.67372\n",
      "[542]\ttest-rmse:3.67316\n",
      "[543]\ttest-rmse:3.67276\n",
      "[544]\ttest-rmse:3.67269\n",
      "[545]\ttest-rmse:3.67218\n",
      "[546]\ttest-rmse:3.6719\n",
      "[547]\ttest-rmse:3.6716\n",
      "[548]\ttest-rmse:3.67139\n",
      "[549]\ttest-rmse:3.67096\n",
      "[550]\ttest-rmse:3.67089\n",
      "[551]\ttest-rmse:3.6709\n",
      "[552]\ttest-rmse:3.67082\n",
      "[553]\ttest-rmse:3.66991\n",
      "[554]\ttest-rmse:3.66983\n",
      "[555]\ttest-rmse:3.66985\n",
      "[556]\ttest-rmse:3.66976\n",
      "[557]\ttest-rmse:3.66981\n",
      "[558]\ttest-rmse:3.66957\n",
      "[559]\ttest-rmse:3.66944\n",
      "[560]\ttest-rmse:3.66925\n",
      "[561]\ttest-rmse:3.66922\n",
      "[562]\ttest-rmse:3.66911\n",
      "[563]\ttest-rmse:3.66913\n",
      "[564]\ttest-rmse:3.6684\n",
      "[565]\ttest-rmse:3.66812\n",
      "[566]\ttest-rmse:3.66796\n",
      "[567]\ttest-rmse:3.66765\n",
      "[568]\ttest-rmse:3.6676\n",
      "[569]\ttest-rmse:3.6676\n",
      "[570]\ttest-rmse:3.66752\n",
      "[571]\ttest-rmse:3.66743\n",
      "[572]\ttest-rmse:3.66716\n",
      "[573]\ttest-rmse:3.66714\n",
      "[574]\ttest-rmse:3.66708\n",
      "[575]\ttest-rmse:3.66727\n",
      "[576]\ttest-rmse:3.66724\n",
      "[577]\ttest-rmse:3.66716\n",
      "[578]\ttest-rmse:3.66708\n",
      "[579]\ttest-rmse:3.66696\n",
      "[580]\ttest-rmse:3.66668\n",
      "[581]\ttest-rmse:3.66661\n",
      "[582]\ttest-rmse:3.66664\n",
      "[583]\ttest-rmse:3.66649\n",
      "[584]\ttest-rmse:3.66645\n",
      "[585]\ttest-rmse:3.6663\n",
      "[586]\ttest-rmse:3.66607\n",
      "[587]\ttest-rmse:3.66587\n",
      "[588]\ttest-rmse:3.66586\n",
      "[589]\ttest-rmse:3.66548\n",
      "[590]\ttest-rmse:3.66542\n",
      "[591]\ttest-rmse:3.66538\n",
      "[592]\ttest-rmse:3.66527\n",
      "[593]\ttest-rmse:3.66527\n",
      "[594]\ttest-rmse:3.6654\n",
      "[595]\ttest-rmse:3.66541\n",
      "[596]\ttest-rmse:3.66544\n",
      "[597]\ttest-rmse:3.66542\n",
      "Stopping. Best iteration:\n",
      "[592]\ttest-rmse:3.66527\n",
      "\n"
     ]
    }
   ],
   "source": [
    "def XGBmodel(x_train, x_test, y_train, y_test, params):\n",
    "    matrix_train = xgb.DMatrix(x_train, label=y_train)\n",
    "    matrix_test = xgb.DMatrix(x_test, label=y_test)\n",
    "    model=xgb.train(params=params,\n",
    "                    dtrain=matrix_train,num_boost_round=5000, \n",
    "                    early_stopping_rounds=5,evals=[(matrix_test,'test')])\n",
    "    return model\n",
    "\n",
    "model = XGBmodel(X_train, X_test, Y_train, Y_test, params)"
   ]
  },
  {
   "cell_type": "markdown",
   "metadata": {},
   "source": [
    "### xgboost predictions on test set"
   ]
  },
  {
   "cell_type": "code",
   "execution_count": 73,
   "metadata": {},
   "outputs": [
    {
     "name": "stdout",
     "output_type": "stream",
     "text": [
      "[ 10.73  10.97   5.1  ...,  50.3   19.74   6.94]\n"
     ]
    }
   ],
   "source": [
    "xg_pred = model.predict(xgb.DMatrix(real_test), ntree_limit = model.best_ntree_limit)\n",
    "xg_pred = [float(i) for i in xg_pred]\n",
    "xg_pred = np.round(xg_pred, decimals=2)\n",
    "print(xg_pred)"
   ]
  },
  {
   "cell_type": "code",
   "execution_count": 74,
   "metadata": {
    "collapsed": true
   },
   "outputs": [],
   "source": [
    "xgboost_predictions = pd.DataFrame({\"key\": test_df['key'],\"fare_amount\": xg_pred},columns = ['key','fare_amount'])"
   ]
  },
  {
   "cell_type": "code",
   "execution_count": 75,
   "metadata": {
    "collapsed": true
   },
   "outputs": [],
   "source": [
    "xgboost_predictions.to_csv('xgboost_submission_4.csv',index=False)"
   ]
  },
  {
   "cell_type": "markdown",
   "metadata": {},
   "source": [
    "### Light GBM model"
   ]
  },
  {
   "cell_type": "code",
   "execution_count": 76,
   "metadata": {},
   "outputs": [
    {
     "name": "stdout",
     "output_type": "stream",
     "text": [
      "[ 10.06   5.3   19.77 ...,  10.68   5.35  14.47]\n",
      "3.75071377687\n"
     ]
    }
   ],
   "source": [
    "model = lgb.LGBMRegressor(objective='regression')\n",
    "model.fit(X_train, Y_train)\n",
    "\n",
    "lgb_predictions = model.predict(X_test)\n",
    "lgb_predictions = np.round(lgb_predictions, decimals=2)\n",
    "print(lgb_predictions)\n",
    "\n",
    "lgb_error = np.sqrt(metrics.mean_squared_error(Y_test, lgb_predictions))\n",
    "print(lgb_error)"
   ]
  },
  {
   "cell_type": "markdown",
   "metadata": {},
   "source": [
    "### lgbm predictions"
   ]
  },
  {
   "cell_type": "code",
   "execution_count": 77,
   "metadata": {
    "collapsed": true
   },
   "outputs": [],
   "source": [
    "lgbm_pred = model.predict(real_test)\n",
    "lgbm_pred = np.round(lgbm_pred, decimals=2)"
   ]
  },
  {
   "cell_type": "code",
   "execution_count": 78,
   "metadata": {
    "collapsed": true
   },
   "outputs": [],
   "source": [
    "lgbm_predictions = pd.DataFrame({\"key\": test_df['key'],\"fare_amount\": lgbm_pred},columns = ['key','fare_amount'])"
   ]
  },
  {
   "cell_type": "code",
   "execution_count": 79,
   "metadata": {
    "collapsed": true
   },
   "outputs": [],
   "source": [
    "lgbm_predictions.to_csv('lgbm_submission_3.csv',index=False)"
   ]
  },
  {
   "cell_type": "markdown",
   "metadata": {},
   "source": [
    "### Ensemble of xgboost 50% and lgbm 50%"
   ]
  },
  {
   "cell_type": "code",
   "execution_count": 80,
   "metadata": {},
   "outputs": [
    {
     "name": "stdout",
     "output_type": "stream",
     "text": [
      "[ 10.83  10.92   5.01 ...,  50.16  19.66   6.92]\n"
     ]
    }
   ],
   "source": [
    "lgbm_pred = [i*0.5 for i in lgbm_pred]\n",
    "xg_pred = [i*0.5 for i in xg_pred]\n",
    "ensemble_predictions = [x + y for x, y in zip(lgbm_pred, xg_pred)]\n",
    "ensemble_predictions = np.round(ensemble_predictions, decimals=2)\n",
    "print(ensemble_predictions)"
   ]
  },
  {
   "cell_type": "code",
   "execution_count": 81,
   "metadata": {
    "collapsed": true
   },
   "outputs": [],
   "source": [
    "ensemble = pd.DataFrame({\"key\": test_df['key'],\"fare_amount\": ensemble_predictions},columns = ['key','fare_amount'])"
   ]
  },
  {
   "cell_type": "code",
   "execution_count": 82,
   "metadata": {
    "collapsed": true
   },
   "outputs": [],
   "source": [
    "ensemble.to_csv('ensemble_submission_4.csv',index=False)"
   ]
  },
  {
   "cell_type": "markdown",
   "metadata": {},
   "source": [
    "### Ensemble of xgboost 75% and lgbm 25%"
   ]
  },
  {
   "cell_type": "code",
   "execution_count": 83,
   "metadata": {},
   "outputs": [
    {
     "name": "stdout",
     "output_type": "stream",
     "text": [
      "[ 10.78  10.95   5.06 ...,  50.23  19.7    6.93]\n"
     ]
    }
   ],
   "source": [
    "lgbm_pred = [2*i*0.25 for i in lgbm_pred]\n",
    "xg_pred = [2*i*0.75 for i in xg_pred]\n",
    "ensemble_predictions = [x + y for x, y in zip(lgbm_pred, xg_pred)]\n",
    "ensemble_predictions = np.round(ensemble_predictions, decimals=2)\n",
    "print(ensemble_predictions)"
   ]
  },
  {
   "cell_type": "code",
   "execution_count": 84,
   "metadata": {},
   "outputs": [],
   "source": [
    "ensemble2 = pd.DataFrame({\"key\": test_df['key'],\"fare_amount\": ensemble_predictions},columns = ['key','fare_amount'])"
   ]
  },
  {
   "cell_type": "code",
   "execution_count": 85,
   "metadata": {
    "collapsed": true
   },
   "outputs": [],
   "source": [
    "ensemble2.to_csv('ensemble_submission_5.csv',index=False)"
   ]
  },
  {
   "cell_type": "markdown",
   "metadata": {},
   "source": []
  }
 ],
 "metadata": {
  "kernelspec": {
   "display_name": "Python 3",
   "language": "python",
   "name": "python3"
  },
  "language_info": {
   "codemirror_mode": {
    "name": "ipython",
    "version": 3
   },
   "file_extension": ".py",
   "mimetype": "text/x-python",
   "name": "python",
   "nbconvert_exporter": "python",
   "pygments_lexer": "ipython3",
   "version": "3.5.4"
  }
 },
 "nbformat": 4,
 "nbformat_minor": 2
}
